{
  "cells": [
    {
      "cell_type": "markdown",
      "metadata": {
        "id": "view-in-github",
        "colab_type": "text"
      },
      "source": [
        "<a href=\"https://colab.research.google.com/github/fabioolivei/Fabio_Olivei_Data_Sciense/blob/main/A_B_Testing_Strategies_in_Fast_Food_Advertising.ipynb\" target=\"_parent\"><img src=\"https://colab.research.google.com/assets/colab-badge.svg\" alt=\"Open In Colab\"/></a>"
      ]
    },
    {
      "cell_type": "markdown",
      "source": [
        "<p>\n",
        "  <img src=\"https://miro.medium.com/v2/resize:fit:720/format:webp/1*BiwbOpLPRZIZbBZh6RHyjQ.png\" width=\"\">\n",
        "</p>\n"
      ],
      "metadata": {
        "id": "DuzniRdvFp6W"
      },
      "id": "DuzniRdvFp6W"
    },
    {
      "cell_type": "markdown",
      "source": [
        "# **Introduction**\n",
        "\n",
        "A/B testing is an essential tool for optimizing business strategies, widely utilized across sectors to gauge the efficacy of different approaches and to identify the most successful one. By employing A/B testing, companies can avoid the costs and time associated with ineffective strategies.\n",
        "\n",
        "Concerning the provided data, a fast-food chain is considering the introduction of a new menu item, with three different marketing campaigns in contention to promote it. To ascertain the most impactful campaign on sales, the item is launched in select markets using distinct promotions at each venue. The sales data for the new product is tracked over the initial four weeks to inform the decision."
      ],
      "metadata": {
        "id": "6xPxt_NrxFiD"
      },
      "id": "6xPxt_NrxFiD"
    },
    {
      "cell_type": "markdown",
      "source": [
        "# **1\\. Business Understanding**\n",
        "\n",
        "*   **Objective**: The aim is to analyze a Fast Food Marketing Campaign dataset to understand the impact of different promotions on sales and identify the most effective strategies.\n",
        "*   **Key Question**: Which marketing promotions are most effective in driving sales?\n"
      ],
      "metadata": {
        "id": "EjuRs4S1fgDL"
      },
      "id": "EjuRs4S1fgDL"
    },
    {
      "cell_type": "markdown",
      "source": [
        "# **2\\. Data Understanding**\n",
        "\n",
        "*   **Dataset Overview**: The dataset contains columns such as MarketID, MarketSize, LocationID, AgeOfStore, Promotion, Week, and SalesInThousands.\n",
        "*   **Initial Observations**:\n",
        "    *   Sales range from 17.34 to 99.65 thousand dollars.\n",
        "    *   There are three types of promotions.\n",
        "    *   The dataset covers various market sizes and store ages."
      ],
      "metadata": {
        "id": "n7FXA6JKfxKF"
      },
      "id": "n7FXA6JKfxKF"
    },
    {
      "cell_type": "markdown",
      "id": "f4451943",
      "metadata": {
        "id": "f4451943"
      },
      "source": [
        "\n",
        "The dataset contains information about marketing campaigns, represented by the following columns:\n",
        "\n",
        "- **`MarketID`**: Identifier for the market, which in this sample is consistently '1'.\n",
        "-**`MarketSize`**: Size of the market, noted here as 'Medium'.\n",
        "- **`LocationID`**: Identifier for the location, varying from '1' to '2' in the snapshot.\n",
        "- **`AgeOfStore`**: Age of the store, '4' or '5' in this sample.\n",
        "- **`Promotion`**: Type of promotion applied, which is '3' in all entries shown.\n",
        "- **`week`**: A numerical representation of the week, ranging from '1' to '4'.\n",
        "- **`SalesInThousands`**: The amount of sales, given in thousands, with values like '33.73'."
      ]
    },
    {
      "cell_type": "code",
      "execution_count": 1,
      "id": "14e1cdc7",
      "metadata": {
        "id": "14e1cdc7",
        "outputId": "9c4669b4-bb7c-4e22-a2e5-83e9f4438dcd",
        "colab": {
          "base_uri": "https://localhost:8080/",
          "height": 206
        }
      },
      "outputs": [
        {
          "output_type": "execute_result",
          "data": {
            "text/plain": [
              "   MarketID MarketSize  LocationID  AgeOfStore  Promotion  week  \\\n",
              "0         1     Medium           1           4          3     1   \n",
              "1         1     Medium           1           4          3     2   \n",
              "2         1     Medium           1           4          3     3   \n",
              "3         1     Medium           1           4          3     4   \n",
              "4         1     Medium           2           5          2     1   \n",
              "\n",
              "   SalesInThousands  \n",
              "0             33.73  \n",
              "1             35.67  \n",
              "2             29.03  \n",
              "3             39.25  \n",
              "4             27.81  "
            ],
            "text/html": [
              "\n",
              "  <div id=\"df-c1310fbf-d3dd-4a48-94fa-c62ee6eeb77a\" class=\"colab-df-container\">\n",
              "    <div>\n",
              "<style scoped>\n",
              "    .dataframe tbody tr th:only-of-type {\n",
              "        vertical-align: middle;\n",
              "    }\n",
              "\n",
              "    .dataframe tbody tr th {\n",
              "        vertical-align: top;\n",
              "    }\n",
              "\n",
              "    .dataframe thead th {\n",
              "        text-align: right;\n",
              "    }\n",
              "</style>\n",
              "<table border=\"1\" class=\"dataframe\">\n",
              "  <thead>\n",
              "    <tr style=\"text-align: right;\">\n",
              "      <th></th>\n",
              "      <th>MarketID</th>\n",
              "      <th>MarketSize</th>\n",
              "      <th>LocationID</th>\n",
              "      <th>AgeOfStore</th>\n",
              "      <th>Promotion</th>\n",
              "      <th>week</th>\n",
              "      <th>SalesInThousands</th>\n",
              "    </tr>\n",
              "  </thead>\n",
              "  <tbody>\n",
              "    <tr>\n",
              "      <th>0</th>\n",
              "      <td>1</td>\n",
              "      <td>Medium</td>\n",
              "      <td>1</td>\n",
              "      <td>4</td>\n",
              "      <td>3</td>\n",
              "      <td>1</td>\n",
              "      <td>33.73</td>\n",
              "    </tr>\n",
              "    <tr>\n",
              "      <th>1</th>\n",
              "      <td>1</td>\n",
              "      <td>Medium</td>\n",
              "      <td>1</td>\n",
              "      <td>4</td>\n",
              "      <td>3</td>\n",
              "      <td>2</td>\n",
              "      <td>35.67</td>\n",
              "    </tr>\n",
              "    <tr>\n",
              "      <th>2</th>\n",
              "      <td>1</td>\n",
              "      <td>Medium</td>\n",
              "      <td>1</td>\n",
              "      <td>4</td>\n",
              "      <td>3</td>\n",
              "      <td>3</td>\n",
              "      <td>29.03</td>\n",
              "    </tr>\n",
              "    <tr>\n",
              "      <th>3</th>\n",
              "      <td>1</td>\n",
              "      <td>Medium</td>\n",
              "      <td>1</td>\n",
              "      <td>4</td>\n",
              "      <td>3</td>\n",
              "      <td>4</td>\n",
              "      <td>39.25</td>\n",
              "    </tr>\n",
              "    <tr>\n",
              "      <th>4</th>\n",
              "      <td>1</td>\n",
              "      <td>Medium</td>\n",
              "      <td>2</td>\n",
              "      <td>5</td>\n",
              "      <td>2</td>\n",
              "      <td>1</td>\n",
              "      <td>27.81</td>\n",
              "    </tr>\n",
              "  </tbody>\n",
              "</table>\n",
              "</div>\n",
              "    <div class=\"colab-df-buttons\">\n",
              "\n",
              "  <div class=\"colab-df-container\">\n",
              "    <button class=\"colab-df-convert\" onclick=\"convertToInteractive('df-c1310fbf-d3dd-4a48-94fa-c62ee6eeb77a')\"\n",
              "            title=\"Convert this dataframe to an interactive table.\"\n",
              "            style=\"display:none;\">\n",
              "\n",
              "  <svg xmlns=\"http://www.w3.org/2000/svg\" height=\"24px\" viewBox=\"0 -960 960 960\">\n",
              "    <path d=\"M120-120v-720h720v720H120Zm60-500h600v-160H180v160Zm220 220h160v-160H400v160Zm0 220h160v-160H400v160ZM180-400h160v-160H180v160Zm440 0h160v-160H620v160ZM180-180h160v-160H180v160Zm440 0h160v-160H620v160Z\"/>\n",
              "  </svg>\n",
              "    </button>\n",
              "\n",
              "  <style>\n",
              "    .colab-df-container {\n",
              "      display:flex;\n",
              "      gap: 12px;\n",
              "    }\n",
              "\n",
              "    .colab-df-convert {\n",
              "      background-color: #E8F0FE;\n",
              "      border: none;\n",
              "      border-radius: 50%;\n",
              "      cursor: pointer;\n",
              "      display: none;\n",
              "      fill: #1967D2;\n",
              "      height: 32px;\n",
              "      padding: 0 0 0 0;\n",
              "      width: 32px;\n",
              "    }\n",
              "\n",
              "    .colab-df-convert:hover {\n",
              "      background-color: #E2EBFA;\n",
              "      box-shadow: 0px 1px 2px rgba(60, 64, 67, 0.3), 0px 1px 3px 1px rgba(60, 64, 67, 0.15);\n",
              "      fill: #174EA6;\n",
              "    }\n",
              "\n",
              "    .colab-df-buttons div {\n",
              "      margin-bottom: 4px;\n",
              "    }\n",
              "\n",
              "    [theme=dark] .colab-df-convert {\n",
              "      background-color: #3B4455;\n",
              "      fill: #D2E3FC;\n",
              "    }\n",
              "\n",
              "    [theme=dark] .colab-df-convert:hover {\n",
              "      background-color: #434B5C;\n",
              "      box-shadow: 0px 1px 3px 1px rgba(0, 0, 0, 0.15);\n",
              "      filter: drop-shadow(0px 1px 2px rgba(0, 0, 0, 0.3));\n",
              "      fill: #FFFFFF;\n",
              "    }\n",
              "  </style>\n",
              "\n",
              "    <script>\n",
              "      const buttonEl =\n",
              "        document.querySelector('#df-c1310fbf-d3dd-4a48-94fa-c62ee6eeb77a button.colab-df-convert');\n",
              "      buttonEl.style.display =\n",
              "        google.colab.kernel.accessAllowed ? 'block' : 'none';\n",
              "\n",
              "      async function convertToInteractive(key) {\n",
              "        const element = document.querySelector('#df-c1310fbf-d3dd-4a48-94fa-c62ee6eeb77a');\n",
              "        const dataTable =\n",
              "          await google.colab.kernel.invokeFunction('convertToInteractive',\n",
              "                                                    [key], {});\n",
              "        if (!dataTable) return;\n",
              "\n",
              "        const docLinkHtml = 'Like what you see? Visit the ' +\n",
              "          '<a target=\"_blank\" href=https://colab.research.google.com/notebooks/data_table.ipynb>data table notebook</a>'\n",
              "          + ' to learn more about interactive tables.';\n",
              "        element.innerHTML = '';\n",
              "        dataTable['output_type'] = 'display_data';\n",
              "        await google.colab.output.renderOutput(dataTable, element);\n",
              "        const docLink = document.createElement('div');\n",
              "        docLink.innerHTML = docLinkHtml;\n",
              "        element.appendChild(docLink);\n",
              "      }\n",
              "    </script>\n",
              "  </div>\n",
              "\n",
              "\n",
              "<div id=\"df-113e7ee5-f225-48e8-b135-579a4605a38a\">\n",
              "  <button class=\"colab-df-quickchart\" onclick=\"quickchart('df-113e7ee5-f225-48e8-b135-579a4605a38a')\"\n",
              "            title=\"Suggest charts\"\n",
              "            style=\"display:none;\">\n",
              "\n",
              "<svg xmlns=\"http://www.w3.org/2000/svg\" height=\"24px\"viewBox=\"0 0 24 24\"\n",
              "     width=\"24px\">\n",
              "    <g>\n",
              "        <path d=\"M19 3H5c-1.1 0-2 .9-2 2v14c0 1.1.9 2 2 2h14c1.1 0 2-.9 2-2V5c0-1.1-.9-2-2-2zM9 17H7v-7h2v7zm4 0h-2V7h2v10zm4 0h-2v-4h2v4z\"/>\n",
              "    </g>\n",
              "</svg>\n",
              "  </button>\n",
              "\n",
              "<style>\n",
              "  .colab-df-quickchart {\n",
              "      --bg-color: #E8F0FE;\n",
              "      --fill-color: #1967D2;\n",
              "      --hover-bg-color: #E2EBFA;\n",
              "      --hover-fill-color: #174EA6;\n",
              "      --disabled-fill-color: #AAA;\n",
              "      --disabled-bg-color: #DDD;\n",
              "  }\n",
              "\n",
              "  [theme=dark] .colab-df-quickchart {\n",
              "      --bg-color: #3B4455;\n",
              "      --fill-color: #D2E3FC;\n",
              "      --hover-bg-color: #434B5C;\n",
              "      --hover-fill-color: #FFFFFF;\n",
              "      --disabled-bg-color: #3B4455;\n",
              "      --disabled-fill-color: #666;\n",
              "  }\n",
              "\n",
              "  .colab-df-quickchart {\n",
              "    background-color: var(--bg-color);\n",
              "    border: none;\n",
              "    border-radius: 50%;\n",
              "    cursor: pointer;\n",
              "    display: none;\n",
              "    fill: var(--fill-color);\n",
              "    height: 32px;\n",
              "    padding: 0;\n",
              "    width: 32px;\n",
              "  }\n",
              "\n",
              "  .colab-df-quickchart:hover {\n",
              "    background-color: var(--hover-bg-color);\n",
              "    box-shadow: 0 1px 2px rgba(60, 64, 67, 0.3), 0 1px 3px 1px rgba(60, 64, 67, 0.15);\n",
              "    fill: var(--button-hover-fill-color);\n",
              "  }\n",
              "\n",
              "  .colab-df-quickchart-complete:disabled,\n",
              "  .colab-df-quickchart-complete:disabled:hover {\n",
              "    background-color: var(--disabled-bg-color);\n",
              "    fill: var(--disabled-fill-color);\n",
              "    box-shadow: none;\n",
              "  }\n",
              "\n",
              "  .colab-df-spinner {\n",
              "    border: 2px solid var(--fill-color);\n",
              "    border-color: transparent;\n",
              "    border-bottom-color: var(--fill-color);\n",
              "    animation:\n",
              "      spin 1s steps(1) infinite;\n",
              "  }\n",
              "\n",
              "  @keyframes spin {\n",
              "    0% {\n",
              "      border-color: transparent;\n",
              "      border-bottom-color: var(--fill-color);\n",
              "      border-left-color: var(--fill-color);\n",
              "    }\n",
              "    20% {\n",
              "      border-color: transparent;\n",
              "      border-left-color: var(--fill-color);\n",
              "      border-top-color: var(--fill-color);\n",
              "    }\n",
              "    30% {\n",
              "      border-color: transparent;\n",
              "      border-left-color: var(--fill-color);\n",
              "      border-top-color: var(--fill-color);\n",
              "      border-right-color: var(--fill-color);\n",
              "    }\n",
              "    40% {\n",
              "      border-color: transparent;\n",
              "      border-right-color: var(--fill-color);\n",
              "      border-top-color: var(--fill-color);\n",
              "    }\n",
              "    60% {\n",
              "      border-color: transparent;\n",
              "      border-right-color: var(--fill-color);\n",
              "    }\n",
              "    80% {\n",
              "      border-color: transparent;\n",
              "      border-right-color: var(--fill-color);\n",
              "      border-bottom-color: var(--fill-color);\n",
              "    }\n",
              "    90% {\n",
              "      border-color: transparent;\n",
              "      border-bottom-color: var(--fill-color);\n",
              "    }\n",
              "  }\n",
              "</style>\n",
              "\n",
              "  <script>\n",
              "    async function quickchart(key) {\n",
              "      const quickchartButtonEl =\n",
              "        document.querySelector('#' + key + ' button');\n",
              "      quickchartButtonEl.disabled = true;  // To prevent multiple clicks.\n",
              "      quickchartButtonEl.classList.add('colab-df-spinner');\n",
              "      try {\n",
              "        const charts = await google.colab.kernel.invokeFunction(\n",
              "            'suggestCharts', [key], {});\n",
              "      } catch (error) {\n",
              "        console.error('Error during call to suggestCharts:', error);\n",
              "      }\n",
              "      quickchartButtonEl.classList.remove('colab-df-spinner');\n",
              "      quickchartButtonEl.classList.add('colab-df-quickchart-complete');\n",
              "    }\n",
              "    (() => {\n",
              "      let quickchartButtonEl =\n",
              "        document.querySelector('#df-113e7ee5-f225-48e8-b135-579a4605a38a button');\n",
              "      quickchartButtonEl.style.display =\n",
              "        google.colab.kernel.accessAllowed ? 'block' : 'none';\n",
              "    })();\n",
              "  </script>\n",
              "</div>\n",
              "\n",
              "    </div>\n",
              "  </div>\n"
            ],
            "application/vnd.google.colaboratory.intrinsic+json": {
              "type": "dataframe",
              "variable_name": "df",
              "summary": "{\n  \"name\": \"df\",\n  \"rows\": 548,\n  \"fields\": [\n    {\n      \"column\": \"MarketID\",\n      \"properties\": {\n        \"dtype\": \"number\",\n        \"std\": 2,\n        \"min\": 1,\n        \"max\": 10,\n        \"num_unique_values\": 10,\n        \"samples\": [\n          9,\n          2,\n          6\n        ],\n        \"semantic_type\": \"\",\n        \"description\": \"\"\n      }\n    },\n    {\n      \"column\": \"MarketSize\",\n      \"properties\": {\n        \"dtype\": \"category\",\n        \"num_unique_values\": 3,\n        \"samples\": [\n          \"Medium\",\n          \"Small\",\n          \"Large\"\n        ],\n        \"semantic_type\": \"\",\n        \"description\": \"\"\n      }\n    },\n    {\n      \"column\": \"LocationID\",\n      \"properties\": {\n        \"dtype\": \"number\",\n        \"std\": 287,\n        \"min\": 1,\n        \"max\": 920,\n        \"num_unique_values\": 137,\n        \"samples\": [\n          711,\n          710,\n          13\n        ],\n        \"semantic_type\": \"\",\n        \"description\": \"\"\n      }\n    },\n    {\n      \"column\": \"AgeOfStore\",\n      \"properties\": {\n        \"dtype\": \"number\",\n        \"std\": 6,\n        \"min\": 1,\n        \"max\": 28,\n        \"num_unique_values\": 25,\n        \"samples\": [\n          8,\n          9,\n          4\n        ],\n        \"semantic_type\": \"\",\n        \"description\": \"\"\n      }\n    },\n    {\n      \"column\": \"Promotion\",\n      \"properties\": {\n        \"dtype\": \"number\",\n        \"std\": 0,\n        \"min\": 1,\n        \"max\": 3,\n        \"num_unique_values\": 3,\n        \"samples\": [\n          3,\n          2,\n          1\n        ],\n        \"semantic_type\": \"\",\n        \"description\": \"\"\n      }\n    },\n    {\n      \"column\": \"week\",\n      \"properties\": {\n        \"dtype\": \"number\",\n        \"std\": 1,\n        \"min\": 1,\n        \"max\": 4,\n        \"num_unique_values\": 4,\n        \"samples\": [\n          2,\n          4,\n          1\n        ],\n        \"semantic_type\": \"\",\n        \"description\": \"\"\n      }\n    },\n    {\n      \"column\": \"SalesInThousands\",\n      \"properties\": {\n        \"dtype\": \"number\",\n        \"std\": 16.755215821664237,\n        \"min\": 17.34,\n        \"max\": 99.65,\n        \"num_unique_values\": 517,\n        \"samples\": [\n          36.39,\n          51.52,\n          52.64\n        ],\n        \"semantic_type\": \"\",\n        \"description\": \"\"\n      }\n    }\n  ]\n}"
            }
          },
          "metadata": {},
          "execution_count": 1
        }
      ],
      "source": [
        "# Libraries import\n",
        "import pandas as pd\n",
        "import matplotlib.pyplot as plt\n",
        "import matplotlib.ticker as ticker\n",
        "import seaborn as sns\n",
        "import numpy as np\n",
        "import plotly as plot\n",
        "import warnings\n",
        "warnings.filterwarnings('ignore')\n",
        "sns.set_style()\n",
        "%matplotlib inline\n",
        "\n",
        "# Load dataset\n",
        "df = pd.read_csv('https://raw.githubusercontent.com/fabioolivei/Fabio_Olivei_Data_Sciense/main/Test_A-B_Marketing/WA_Marketing-Campaign.csv')\n",
        "df.head()"
      ]
    },
    {
      "cell_type": "code",
      "execution_count": null,
      "id": "05879cec",
      "metadata": {
        "id": "05879cec",
        "outputId": "c2dfb7cd-03aa-47d8-94ad-167b6c25ef29",
        "colab": {
          "base_uri": "https://localhost:8080/"
        }
      },
      "outputs": [
        {
          "output_type": "execute_result",
          "data": {
            "text/plain": [
              "(548, 7)"
            ]
          },
          "metadata": {},
          "execution_count": 7
        }
      ],
      "source": [
        "# Dataset size\n",
        "df.shape"
      ]
    },
    {
      "cell_type": "code",
      "execution_count": null,
      "id": "9551ea49",
      "metadata": {
        "id": "9551ea49",
        "outputId": "3ff198f2-0ed0-4e68-fe60-45926d82d3db",
        "colab": {
          "base_uri": "https://localhost:8080/"
        }
      },
      "outputs": [
        {
          "output_type": "stream",
          "name": "stdout",
          "text": [
            "<class 'pandas.core.frame.DataFrame'>\n",
            "RangeIndex: 548 entries, 0 to 547\n",
            "Data columns (total 7 columns):\n",
            " #   Column            Non-Null Count  Dtype  \n",
            "---  ------            --------------  -----  \n",
            " 0   MarketID          548 non-null    int64  \n",
            " 1   MarketSize        548 non-null    object \n",
            " 2   LocationID        548 non-null    int64  \n",
            " 3   AgeOfStore        548 non-null    int64  \n",
            " 4   Promotion         548 non-null    int64  \n",
            " 5   week              548 non-null    int64  \n",
            " 6   SalesInThousands  548 non-null    float64\n",
            "dtypes: float64(1), int64(5), object(1)\n",
            "memory usage: 30.1+ KB\n"
          ]
        }
      ],
      "source": [
        "# Data type\n",
        "df.info()"
      ]
    },
    {
      "cell_type": "code",
      "execution_count": null,
      "id": "d5df7386",
      "metadata": {
        "id": "d5df7386",
        "outputId": "1c5d5ba3-93d4-4171-b71f-d068743b040e",
        "colab": {
          "base_uri": "https://localhost:8080/"
        }
      },
      "outputs": [
        {
          "output_type": "execute_result",
          "data": {
            "text/plain": [
              "Index(['MarketID', 'MarketSize', 'LocationID', 'AgeOfStore', 'Promotion',\n",
              "       'week', 'SalesInThousands'],\n",
              "      dtype='object')"
            ]
          },
          "metadata": {},
          "execution_count": 9
        }
      ],
      "source": [
        "# Data columns\n",
        "df.columns"
      ]
    },
    {
      "cell_type": "code",
      "execution_count": null,
      "id": "3f14cac9",
      "metadata": {
        "scrolled": true,
        "id": "3f14cac9",
        "outputId": "b96b64e1-f7ab-464a-ed28-507fceae9a3e"
      },
      "outputs": [
        {
          "data": {
            "text/html": [
              "<div>\n",
              "<style scoped>\n",
              "    .dataframe tbody tr th:only-of-type {\n",
              "        vertical-align: middle;\n",
              "    }\n",
              "\n",
              "    .dataframe tbody tr th {\n",
              "        vertical-align: top;\n",
              "    }\n",
              "\n",
              "    .dataframe thead th {\n",
              "        text-align: right;\n",
              "    }\n",
              "</style>\n",
              "<table border=\"1\" class=\"dataframe\">\n",
              "  <thead>\n",
              "    <tr style=\"text-align: right;\">\n",
              "      <th></th>\n",
              "      <th>MarketID</th>\n",
              "      <th>LocationID</th>\n",
              "      <th>AgeOfStore</th>\n",
              "      <th>Promotion</th>\n",
              "      <th>week</th>\n",
              "      <th>SalesInThousands</th>\n",
              "    </tr>\n",
              "  </thead>\n",
              "  <tbody>\n",
              "    <tr>\n",
              "      <th>count</th>\n",
              "      <td>548.000000</td>\n",
              "      <td>548.000000</td>\n",
              "      <td>548.000000</td>\n",
              "      <td>548.000000</td>\n",
              "      <td>548.000000</td>\n",
              "      <td>548.000000</td>\n",
              "    </tr>\n",
              "    <tr>\n",
              "      <th>mean</th>\n",
              "      <td>5.715328</td>\n",
              "      <td>479.656934</td>\n",
              "      <td>8.503650</td>\n",
              "      <td>2.029197</td>\n",
              "      <td>2.500000</td>\n",
              "      <td>53.466204</td>\n",
              "    </tr>\n",
              "    <tr>\n",
              "      <th>std</th>\n",
              "      <td>2.877001</td>\n",
              "      <td>287.973679</td>\n",
              "      <td>6.638345</td>\n",
              "      <td>0.810729</td>\n",
              "      <td>1.119055</td>\n",
              "      <td>16.755216</td>\n",
              "    </tr>\n",
              "    <tr>\n",
              "      <th>min</th>\n",
              "      <td>1.000000</td>\n",
              "      <td>1.000000</td>\n",
              "      <td>1.000000</td>\n",
              "      <td>1.000000</td>\n",
              "      <td>1.000000</td>\n",
              "      <td>17.340000</td>\n",
              "    </tr>\n",
              "    <tr>\n",
              "      <th>25%</th>\n",
              "      <td>3.000000</td>\n",
              "      <td>216.000000</td>\n",
              "      <td>4.000000</td>\n",
              "      <td>1.000000</td>\n",
              "      <td>1.750000</td>\n",
              "      <td>42.545000</td>\n",
              "    </tr>\n",
              "    <tr>\n",
              "      <th>50%</th>\n",
              "      <td>6.000000</td>\n",
              "      <td>504.000000</td>\n",
              "      <td>7.000000</td>\n",
              "      <td>2.000000</td>\n",
              "      <td>2.500000</td>\n",
              "      <td>50.200000</td>\n",
              "    </tr>\n",
              "    <tr>\n",
              "      <th>75%</th>\n",
              "      <td>8.000000</td>\n",
              "      <td>708.000000</td>\n",
              "      <td>12.000000</td>\n",
              "      <td>3.000000</td>\n",
              "      <td>3.250000</td>\n",
              "      <td>60.477500</td>\n",
              "    </tr>\n",
              "    <tr>\n",
              "      <th>max</th>\n",
              "      <td>10.000000</td>\n",
              "      <td>920.000000</td>\n",
              "      <td>28.000000</td>\n",
              "      <td>3.000000</td>\n",
              "      <td>4.000000</td>\n",
              "      <td>99.650000</td>\n",
              "    </tr>\n",
              "  </tbody>\n",
              "</table>\n",
              "</div>"
            ],
            "text/plain": [
              "         MarketID  LocationID  AgeOfStore   Promotion        week  \\\n",
              "count  548.000000  548.000000  548.000000  548.000000  548.000000   \n",
              "mean     5.715328  479.656934    8.503650    2.029197    2.500000   \n",
              "std      2.877001  287.973679    6.638345    0.810729    1.119055   \n",
              "min      1.000000    1.000000    1.000000    1.000000    1.000000   \n",
              "25%      3.000000  216.000000    4.000000    1.000000    1.750000   \n",
              "50%      6.000000  504.000000    7.000000    2.000000    2.500000   \n",
              "75%      8.000000  708.000000   12.000000    3.000000    3.250000   \n",
              "max     10.000000  920.000000   28.000000    3.000000    4.000000   \n",
              "\n",
              "       SalesInThousands  \n",
              "count        548.000000  \n",
              "mean          53.466204  \n",
              "std           16.755216  \n",
              "min           17.340000  \n",
              "25%           42.545000  \n",
              "50%           50.200000  \n",
              "75%           60.477500  \n",
              "max           99.650000  "
            ]
          },
          "execution_count": 5,
          "metadata": {},
          "output_type": "execute_result"
        }
      ],
      "source": [
        "# Descriptive Analysis of the Data\n",
        "df.describe()"
      ]
    },
    {
      "cell_type": "markdown",
      "source": [
        "I'll start with the descriptive analysis.\n",
        "\n",
        "The descriptive analysis provides the following insights:\n",
        "\n",
        "- **MarketID**: Ranges from 1 to 10.\n",
        "- **LocationID**: Ranges from 1 to 920, indicating a wide distribution of store locations.\n",
        "- **AgeOfStore**: The ages vary from 1 to 28 years, with an average of about 8.5 years.\n",
        "- **Promotion**: There are three unique promotions (1, 2, and 3), which we can use for the A/B testing analysis.\n",
        "- **Week**: Data spans across 4 weeks.\n",
        "- **SalesInThousands**: Sales figures range from 17.34 to 99.65 thousand dollars, with an average of approximately 53.47 thousand dollars."
      ],
      "metadata": {
        "id": "MeyWDrb2lICG"
      },
      "id": "MeyWDrb2lICG"
    },
    {
      "cell_type": "markdown",
      "id": "2193428b",
      "metadata": {
        "id": "2193428b"
      },
      "source": [
        "- `df.shape`: Indicates there are 548 entries and 7 columns.\n",
        "- `df.info()`: Confirms there are no null values and shows data types, including one object (probably a string) and the rest as integers or floats.\n",
        "- `df.columns`: Lists all the column names.\n",
        "- `df.describe()`: Provides statistical details like mean, standard deviation, minimum, and maximum for the numerical columns."
      ]
    },
    {
      "cell_type": "markdown",
      "source": [
        "# **3\\. Data Preparation**\n",
        "\n",
        "*   **Data Cleaning**: Handled missing values, outliers, and duplicates (if any).\n",
        "*   **Feature Engineering**: Converted MarketSize to numerical format using Label Encoding. Applied logarithmic transformation to SalesInThousands and AgeOfStore to normalize the data.\n",
        "*   **Outliers**: Identified and treated outliers in SalesInThousands (33 outliers above 87.37625) and AgeOfStore (12 outliers above 24 years)."
      ],
      "metadata": {
        "id": "xpcbRm0ZgM6i"
      },
      "id": "xpcbRm0ZgM6i"
    },
    {
      "cell_type": "code",
      "execution_count": null,
      "id": "08d31552",
      "metadata": {
        "id": "08d31552",
        "outputId": "5d9d95ee-a414-475f-f40e-ce4f56017af8"
      },
      "outputs": [
        {
          "data": {
            "text/plain": [
              "MarketID            0\n",
              "MarketSize          0\n",
              "LocationID          0\n",
              "AgeOfStore          0\n",
              "Promotion           0\n",
              "week                0\n",
              "SalesInThousands    0\n",
              "dtype: int64"
            ]
          },
          "execution_count": 6,
          "metadata": {},
          "output_type": "execute_result"
        }
      ],
      "source": [
        "# Missing Values\n",
        "df.isnull().sum()"
      ]
    },
    {
      "cell_type": "code",
      "execution_count": null,
      "id": "e06aa26b",
      "metadata": {
        "id": "e06aa26b",
        "outputId": "2fc20544-2fb7-4b5e-bb1f-17b55d1f4852"
      },
      "outputs": [
        {
          "data": {
            "text/plain": [
              "0"
            ]
          },
          "execution_count": 7,
          "metadata": {},
          "output_type": "execute_result"
        }
      ],
      "source": [
        "# Data duplicate\n",
        "df.duplicated().sum()"
      ]
    },
    {
      "cell_type": "code",
      "execution_count": null,
      "id": "1deabb49",
      "metadata": {
        "scrolled": true,
        "id": "1deabb49",
        "outputId": "c054d18f-d3d7-49ba-8455-51738d559b17"
      },
      "outputs": [
        {
          "data": {
            "text/plain": [
              "144    99.65\n",
              "154    99.12\n",
              "111    97.61\n",
              "104    96.48\n",
              "109    96.01\n",
              "       ...  \n",
              "287    23.44\n",
              "19     23.35\n",
              "21     22.18\n",
              "283    19.26\n",
              "285    17.34\n",
              "Name: SalesInThousands, Length: 548, dtype: float64"
            ]
          },
          "execution_count": 9,
          "metadata": {},
          "output_type": "execute_result"
        }
      ],
      "source": [
        "# Displays the sales values sorted from highest to lowest\n",
        "df.SalesInThousands.sort_values(ascending=False)"
      ]
    },
    {
      "cell_type": "markdown",
      "id": "ca020e0f",
      "metadata": {
        "id": "ca020e0f"
      },
      "source": [
        "- `df.isnull()`: Checks for null values in each column, all of which are zero.\n",
        "- `df.duplicated()`: Sum indicates there are no duplicate rows in the DataFrame.\n",
        "- `df.SalesInThousands.sort_values(ascending=False)`: Displays the sales values sorted from highest to lowest."
      ]
    },
    {
      "cell_type": "code",
      "execution_count": null,
      "id": "fc4a0e83",
      "metadata": {
        "scrolled": true,
        "id": "fc4a0e83",
        "outputId": "817812e9-3946-40a0-e3a7-a5971ace5946",
        "colab": {
          "base_uri": "https://localhost:8080/",
          "height": 545
        }
      },
      "outputs": [
        {
          "output_type": "display_data",
          "data": {
            "text/plain": [
              "<Figure size 800x600 with 1 Axes>"
            ],
            "image/png": "[encoded data removed]"
          },
          "metadata": {}
        }
      ],
      "source": [
        "# Plot\n",
        "fig, ax = plt.subplots(figsize=(8,6))\n",
        "sns.boxplot(x = df.SalesInThousands, palette='Blues')\n",
        "plt.title('Sales In Thousand')\n",
        "plt.xlabel('')\n",
        "plt.ylabel('')\n",
        "\n",
        "# Set visibility of spines\n",
        "ax.spines['top'].set_visible(False)\n",
        "ax.spines['right'].set_visible(False)\n",
        "ax.spines['left'].set_visible(False)\n",
        "ax.spines['bottom'].set_visible(False)\n",
        "plt.show()"
      ]
    },
    {
      "cell_type": "markdown",
      "id": "104c5413",
      "metadata": {
        "id": "104c5413"
      },
      "source": [
        "The box plot shows a median around 40, with a wide range in the interquartile range, suggesting variability in the data. There are several outliers on the high end, indicating that a few stores or campaigns have much higher values than the rest."
      ]
    },
    {
      "cell_type": "code",
      "execution_count": null,
      "id": "2168b0eb",
      "metadata": {
        "id": "2168b0eb",
        "outputId": "40085956-f271-40f5-faec-7874f9912a1a",
        "colab": {
          "base_uri": "https://localhost:8080/",
          "height": 564
        }
      },
      "outputs": [
        {
          "output_type": "display_data",
          "data": {
            "text/plain": [
              "<Figure size 800x600 with 1 Axes>"
            ],
            "image/png": "[encoded data removed]"
          },
          "metadata": {}
        }
      ],
      "source": [
        "fig, ax = plt.subplots(figsize=(8,6))\n",
        "ax = sns.boxplot(x = 'Promotion', y  = 'SalesInThousands', data = df, palette='Blues')\n",
        "plt.title('Sales by Promotions')\n",
        "\n",
        "# Set visibility of spines\n",
        "ax.spines['top'].set_visible(False)\n",
        "ax.spines['right'].set_visible(False)\n",
        "ax.spines['left'].set_visible(False)\n",
        "ax.spines['bottom'].set_visible(False)\n",
        "plt.show()"
      ]
    },
    {
      "cell_type": "markdown",
      "id": "4b08c2ac",
      "metadata": {
        "id": "4b08c2ac"
      },
      "source": [
        "- This box plot shows the sales in thousands for each of the three promotions. Promotion 1 seems to have the highest median sales and also the highest variability, while Promotion 2 has the lowest median sales. This could indicate that Promotion 1 is the most effective in driving sales but also the most variable."
      ]
    },
    {
      "cell_type": "code",
      "execution_count": null,
      "id": "372a08aa",
      "metadata": {
        "scrolled": true,
        "id": "372a08aa",
        "outputId": "071de96d-ea92-4c81-fd3e-744b6f820777",
        "colab": {
          "base_uri": "https://localhost:8080/",
          "height": 564
        }
      },
      "outputs": [
        {
          "output_type": "display_data",
          "data": {
            "text/plain": [
              "<Figure size 800x600 with 1 Axes>"
            ],
            "image/png": "[encoded data removed]"
          },
          "metadata": {}
        }
      ],
      "source": [
        "# Set the color palette\n",
        "colors = sns.dark_palette(\"#69d\", reverse=False)\n",
        "\n",
        "fig, ax = plt.subplots(figsize=(8,6))\n",
        "sns.countplot(x='MarketSize', data=df, palette=colors, ax=ax)\n",
        "for container in ax.containers:\n",
        "    ax.bar_label(container)\n",
        "plt.title('Market Size')\n",
        "\n",
        "\n",
        "# Set visibility of spines\n",
        "ax.spines['top'].set_visible(False)\n",
        "ax.spines['right'].set_visible(False)\n",
        "ax.spines['left'].set_visible(False)\n",
        "ax.spines['bottom'].set_visible(False)\n",
        "\n",
        "plt.show()"
      ]
    },
    {
      "cell_type": "markdown",
      "source": [
        "Most stores are classified as 'Medium' in market size, followed by 'Large', and there are relatively few 'Small' market sizes. This could suggest that medium-sized markets are the primary focus of the campaign or that they are more common."
      ],
      "metadata": {
        "id": "QnOivtjHdkPv"
      },
      "id": "QnOivtjHdkPv"
    },
    {
      "cell_type": "code",
      "execution_count": null,
      "id": "2c4da7a1",
      "metadata": {
        "scrolled": true,
        "id": "2c4da7a1",
        "outputId": "99605a91-c2d1-4740-9efa-49f76b67893d",
        "colab": {
          "base_uri": "https://localhost:8080/",
          "height": 564
        }
      },
      "outputs": [
        {
          "output_type": "display_data",
          "data": {
            "text/plain": [
              "<Figure size 1000x600 with 1 Axes>"
            ],
            "image/png": "[encoded data removed]"
          },
          "metadata": {}
        }
      ],
      "source": [
        "colors = sns.dark_palette(\"#69d\", reverse=False)\n",
        "\n",
        "fig, ax = plt.subplots(figsize=(10,6))\n",
        "sns.boxplot(x = df['MarketSize'], y = df['SalesInThousands'], palette=colors, ax=ax)\n",
        "plt.title('Sales by MarketSize')\n",
        "# Set visibility of spines\n",
        "ax.spines['top'].set_visible(False)\n",
        "ax.spines['right'].set_visible(False)\n",
        "ax.spines['left'].set_visible(False)\n",
        "ax.spines['bottom'].set_visible(False)\n",
        "plt.show()\n"
      ]
    },
    {
      "cell_type": "markdown",
      "source": [
        "*   The median sales for 'Medium' and 'Large' markets are higher than for 'Small' markets, indicating that campaigns in larger markets tend to yield higher sales.\n",
        "*   There is a wide range of sales in the 'Large' market category, as seen by the length of the box, indicating variability in campaign success within large markets.\n",
        "*   Outliers are present in the 'Medium' market category, suggesting that there are some exceptionally high-performing campaigns or stores within this category."
      ],
      "metadata": {
        "id": "5pOGB9o0oIG2"
      },
      "id": "5pOGB9o0oIG2"
    },
    {
      "cell_type": "code",
      "execution_count": null,
      "id": "6b6f7832",
      "metadata": {
        "id": "6b6f7832",
        "outputId": "60bd1ddb-26dd-44af-c838-943ff8e25622",
        "colab": {
          "base_uri": "https://localhost:8080/",
          "height": 582
        }
      },
      "outputs": [
        {
          "output_type": "stream",
          "name": "stdout",
          "text": [
            "<BarContainer object of 25 artists>\n"
          ]
        },
        {
          "output_type": "display_data",
          "data": {
            "text/plain": [
              "<Figure size 800x600 with 1 Axes>"
            ],
            "image/png": "[encoded data removed]"
          },
          "metadata": {}
        }
      ],
      "source": [
        "fig, ax = plt.subplots(figsize=(8,6))\n",
        "sns.countplot(x = 'AgeOfStore', data = df, palette='mako', ax=ax)\n",
        "for i in ax.containers:\n",
        "    print(i)\n",
        "    ax.bar_label(i)\n",
        "plt.title('Age Of Store')\n",
        "\n",
        "# Set visibility of spines\n",
        "ax.spines['top'].set_visible(False)\n",
        "ax.spines['right'].set_visible(False)\n",
        "ax.spines['left'].set_visible(False)\n",
        "ax.spines['bottom'].set_visible(False)\n",
        "plt.show()"
      ]
    },
    {
      "cell_type": "markdown",
      "id": "b36dc41d",
      "metadata": {
        "id": "b36dc41d"
      },
      "source": [
        "The distribution of the 'AgeOfStore' suggests that most of the stores are relatively new, with a high count of stores being around 4 to 6 years old. The frequency decreases as the age increases, indicating fewer older stores are participating in the campaign.."
      ]
    },
    {
      "cell_type": "code",
      "execution_count": null,
      "id": "b47a2db6",
      "metadata": {
        "scrolled": true,
        "id": "b47a2db6",
        "outputId": "a0125a04-c0bf-4502-86ef-64cb49017715",
        "colab": {
          "base_uri": "https://localhost:8080/",
          "height": 545
        }
      },
      "outputs": [
        {
          "output_type": "display_data",
          "data": {
            "text/plain": [
              "<Figure size 800x600 with 1 Axes>"
            ],
            "image/png": "[encoded data removed]"
          },
          "metadata": {}
        }
      ],
      "source": [
        "fig, ax = plt.subplots(figsize=(8,6))\n",
        "ax.scatter(x = 'SalesInThousands', y = 'AgeOfStore', data = df, color='black')\n",
        "plt.title('Sales by Age Of Store')\n",
        "# Set visibility of spines\n",
        "ax.spines['top'].set_visible(False)\n",
        "ax.spines['right'].set_visible(False)\n",
        "ax.spines['left'].set_visible(False)\n",
        "ax.spines['bottom'].set_visible(False)\n",
        "plt.show()"
      ]
    },
    {
      "cell_type": "markdown",
      "source": [
        "The scatter plot does not provide a clear trend or pattern, which suggests that the variable plotted on the x-axis does not have a simple linear relationship with the variable on the y-axis. If these are individual stores or campaigns, there is significant variance in whatever metric is being measured on the y-axis."
      ],
      "metadata": {
        "id": "4Yv0L2binJWa"
      },
      "id": "4Yv0L2binJWa"
    },
    {
      "cell_type": "code",
      "execution_count": null,
      "id": "39cac6e8",
      "metadata": {
        "id": "39cac6e8",
        "outputId": "2f3e5630-64ae-4ed9-c813-93dd70456177",
        "colab": {
          "base_uri": "https://localhost:8080/",
          "height": 582
        }
      },
      "outputs": [
        {
          "output_type": "stream",
          "name": "stdout",
          "text": [
            "<BarContainer object of 3 artists>\n"
          ]
        },
        {
          "output_type": "display_data",
          "data": {
            "text/plain": [
              "<Figure size 800x600 with 1 Axes>"
            ],
            "image/png": "[encoded data removed]"
          },
          "metadata": {}
        }
      ],
      "source": [
        "colors = sns.dark_palette(\"#69d\", reverse=True)\n",
        "\n",
        "\n",
        "fig, ax = plt.subplots(figsize=(8,6))\n",
        "ax = sns.countplot(x = 'Promotion', data = df, palette=colors)\n",
        "for i in ax.containers:\n",
        "    print(i)\n",
        "    ax.bar_label(i)\n",
        "plt.title('Promotions')\n",
        "\n",
        "# Set visibility of spines\n",
        "ax.spines['top'].set_visible(False)\n",
        "ax.spines['right'].set_visible(False)\n",
        "ax.spines['left'].set_visible(False)\n",
        "ax.spines['bottom'].set_visible(False)\n",
        "plt.show()"
      ]
    },
    {
      "cell_type": "markdown",
      "id": "16058dc1",
      "metadata": {
        "id": "16058dc1"
      },
      "source": [
        "- All three promotions have been used almost equally, with Promotion 2 and 3 being used the most at 188 counts each. This indicates that the campaign has been evenly distributed across the different promotion types."
      ]
    },
    {
      "cell_type": "code",
      "execution_count": null,
      "id": "5a072fa2",
      "metadata": {
        "scrolled": true,
        "id": "5a072fa2",
        "outputId": "097b860d-1383-455e-977c-20e8115d9e01",
        "colab": {
          "base_uri": "https://localhost:8080/",
          "height": 581
        }
      },
      "outputs": [
        {
          "output_type": "stream",
          "name": "stdout",
          "text": [
            "<BarContainer object of 3 artists>\n"
          ]
        },
        {
          "output_type": "display_data",
          "data": {
            "text/plain": [
              "<Figure size 800x600 with 1 Axes>"
            ],
            "image/png": "[encoded data removed]"
          },
          "metadata": {}
        }
      ],
      "source": [
        "colors = sns.dark_palette(\"#69d\", reverse=True)\n",
        "\n",
        "fig, ax = plt.subplots(figsize=(8,6))\n",
        "ax = sns.barplot(x = 'Promotion', y  = 'SalesInThousands', data = df, palette=colors, ci=0)\n",
        "for i in ax.containers:\n",
        "    print(i)\n",
        "    ax.bar_label(i)\n",
        "plt.title('Bar Plot of Sales by Promotion')\n",
        "\n",
        "# Set visibility of spines\n",
        "ax.spines['top'].set_visible(False)\n",
        "ax.spines['right'].set_visible(False)\n",
        "ax.spines['left'].set_visible(False)\n",
        "ax.spines['bottom'].set_visible(False)\n",
        "plt.show()"
      ]
    },
    {
      "cell_type": "markdown",
      "id": "ab8706ad",
      "metadata": {
        "id": "ab8706ad"
      },
      "source": [
        "- The bar plot gives a clearer picture of the average sales per promotion, with Promotion 1 having the highest average sales at approximately 58.9 thousand, followed by Promotion 3 and Promotion 2. This suggests that Promotion 1 might be the most effective in driving sales on average."
      ]
    },
    {
      "cell_type": "code",
      "execution_count": null,
      "id": "080a8396",
      "metadata": {
        "scrolled": true,
        "id": "080a8396",
        "outputId": "bf680d52-c15d-48b9-a56e-ee233d14f12a",
        "colab": {
          "base_uri": "https://localhost:8080/",
          "height": 581
        }
      },
      "outputs": [
        {
          "output_type": "stream",
          "name": "stdout",
          "text": [
            "<BarContainer object of 10 artists>\n"
          ]
        },
        {
          "output_type": "display_data",
          "data": {
            "text/plain": [
              "<Figure size 800x600 with 1 Axes>"
            ],
            "image/png": "[encoded data removed]"
          },
          "metadata": {}
        }
      ],
      "source": [
        "fig, ax = plt.subplots(figsize=(8,6))\n",
        "ax = sns.barplot(x = df['MarketID'], y = df['SalesInThousands'], palette='magma', ci=0)\n",
        "for i in ax.containers:\n",
        "    print(i)\n",
        "    ax.bar_label(i)\n",
        "plt.title('Sales by MarketID')\n",
        "# Set visibility of spines\n",
        "ax.spines['top'].set_visible(False)\n",
        "ax.spines['right'].set_visible(False)\n",
        "ax.spines['left'].set_visible(False)\n",
        "ax.spines['bottom'].set_visible(False)\n",
        "plt.show()\n"
      ]
    },
    {
      "cell_type": "code",
      "source": [
        "fig, ax = plt.subplots(figsize=(8,6))\n",
        "ax = sns.countplot(x = df['MarketID'],palette='magma')\n",
        "for i in ax.containers:\n",
        "    print(i)\n",
        "    ax.bar_label(i)\n",
        "plt.title('MarketID')\n",
        "# Set visibility of spines\n",
        "ax.spines['top'].set_visible(False)\n",
        "ax.spines['right'].set_visible(False)\n",
        "ax.spines['left'].set_visible(False)\n",
        "ax.spines['bottom'].set_visible(False)\n",
        "plt.show()\n"
      ],
      "metadata": {
        "colab": {
          "base_uri": "https://localhost:8080/",
          "height": 581
        },
        "id": "MvdNMEK9DxSn",
        "outputId": "df348f1d-3f6e-4f73-c416-2ac470cf301c"
      },
      "id": "MvdNMEK9DxSn",
      "execution_count": null,
      "outputs": [
        {
          "output_type": "stream",
          "name": "stdout",
          "text": [
            "<BarContainer object of 10 artists>\n"
          ]
        },
        {
          "output_type": "display_data",
          "data": {
            "text/plain": [
              "<Figure size 800x600 with 1 Axes>"
            ],
            "image/png": "[encoded data removed]"
          },
          "metadata": {}
        }
      ]
    },
    {
      "cell_type": "markdown",
      "source": [
        "*   This bar chart displays sales in thousands for different Market IDs.\n",
        "*   MarketID 4 has the highest sales, significantly outperforming others with sales close to 85 thousand.\n",
        "*   MarketID 1 shows the lowest sales, around 35 thousand.\n",
        "*   This indicates a disparity in the effectiveness of the marketing campaign across different market regions."
      ],
      "metadata": {
        "id": "KEE-yKz7oiyS"
      },
      "id": "KEE-yKz7oiyS"
    },
    {
      "cell_type": "markdown",
      "source": [
        "##**Outliers**\n",
        "<p>\n",
        "<img src=\"https://miro.medium.com/v2/resize:fit:720/format:webp/1*h_LVfZ4BG5KeHJh9HnxVOw.png/\" width=\"%\"></p>"
      ],
      "metadata": {
        "id": "bEBo_jEwi9qj"
      },
      "id": "bEBo_jEwi9qj"
    },
    {
      "cell_type": "markdown",
      "source": [
        "Let's check for outliers and deal with them after we have split the data."
      ],
      "metadata": {
        "id": "4clE5d-S7NFK"
      },
      "id": "4clE5d-S7NFK"
    },
    {
      "cell_type": "code",
      "execution_count": 2,
      "id": "6b97f0b8",
      "metadata": {
        "scrolled": true,
        "id": "6b97f0b8",
        "outputId": "975321f4-59ef-478b-c019-8356ff655ad4",
        "colab": {
          "base_uri": "https://localhost:8080/",
          "height": 238
        }
      },
      "outputs": [
        {
          "output_type": "execute_result",
          "data": {
            "text/plain": [
              "           Features  Number of Outliers\n",
              "0          MarketID                   0\n",
              "1        LocationID                   0\n",
              "2        AgeOfStore                  12\n",
              "3         Promotion                   0\n",
              "4              week                   0\n",
              "5  SalesInThousands                  33"
            ],
            "text/html": [
              "\n",
              "  <div id=\"df-c66fcbce-5fa7-4180-b453-b5624a096748\" class=\"colab-df-container\">\n",
              "    <div>\n",
              "<style scoped>\n",
              "    .dataframe tbody tr th:only-of-type {\n",
              "        vertical-align: middle;\n",
              "    }\n",
              "\n",
              "    .dataframe tbody tr th {\n",
              "        vertical-align: top;\n",
              "    }\n",
              "\n",
              "    .dataframe thead th {\n",
              "        text-align: right;\n",
              "    }\n",
              "</style>\n",
              "<table border=\"1\" class=\"dataframe\">\n",
              "  <thead>\n",
              "    <tr style=\"text-align: right;\">\n",
              "      <th></th>\n",
              "      <th>Features</th>\n",
              "      <th>Number of Outliers</th>\n",
              "    </tr>\n",
              "  </thead>\n",
              "  <tbody>\n",
              "    <tr>\n",
              "      <th>0</th>\n",
              "      <td>MarketID</td>\n",
              "      <td>0</td>\n",
              "    </tr>\n",
              "    <tr>\n",
              "      <th>1</th>\n",
              "      <td>LocationID</td>\n",
              "      <td>0</td>\n",
              "    </tr>\n",
              "    <tr>\n",
              "      <th>2</th>\n",
              "      <td>AgeOfStore</td>\n",
              "      <td>12</td>\n",
              "    </tr>\n",
              "    <tr>\n",
              "      <th>3</th>\n",
              "      <td>Promotion</td>\n",
              "      <td>0</td>\n",
              "    </tr>\n",
              "    <tr>\n",
              "      <th>4</th>\n",
              "      <td>week</td>\n",
              "      <td>0</td>\n",
              "    </tr>\n",
              "    <tr>\n",
              "      <th>5</th>\n",
              "      <td>SalesInThousands</td>\n",
              "      <td>33</td>\n",
              "    </tr>\n",
              "  </tbody>\n",
              "</table>\n",
              "</div>\n",
              "    <div class=\"colab-df-buttons\">\n",
              "\n",
              "  <div class=\"colab-df-container\">\n",
              "    <button class=\"colab-df-convert\" onclick=\"convertToInteractive('df-c66fcbce-5fa7-4180-b453-b5624a096748')\"\n",
              "            title=\"Convert this dataframe to an interactive table.\"\n",
              "            style=\"display:none;\">\n",
              "\n",
              "  <svg xmlns=\"http://www.w3.org/2000/svg\" height=\"24px\" viewBox=\"0 -960 960 960\">\n",
              "    <path d=\"M120-120v-720h720v720H120Zm60-500h600v-160H180v160Zm220 220h160v-160H400v160Zm0 220h160v-160H400v160ZM180-400h160v-160H180v160Zm440 0h160v-160H620v160ZM180-180h160v-160H180v160Zm440 0h160v-160H620v160Z\"/>\n",
              "  </svg>\n",
              "    </button>\n",
              "\n",
              "  <style>\n",
              "    .colab-df-container {\n",
              "      display:flex;\n",
              "      gap: 12px;\n",
              "    }\n",
              "\n",
              "    .colab-df-convert {\n",
              "      background-color: #E8F0FE;\n",
              "      border: none;\n",
              "      border-radius: 50%;\n",
              "      cursor: pointer;\n",
              "      display: none;\n",
              "      fill: #1967D2;\n",
              "      height: 32px;\n",
              "      padding: 0 0 0 0;\n",
              "      width: 32px;\n",
              "    }\n",
              "\n",
              "    .colab-df-convert:hover {\n",
              "      background-color: #E2EBFA;\n",
              "      box-shadow: 0px 1px 2px rgba(60, 64, 67, 0.3), 0px 1px 3px 1px rgba(60, 64, 67, 0.15);\n",
              "      fill: #174EA6;\n",
              "    }\n",
              "\n",
              "    .colab-df-buttons div {\n",
              "      margin-bottom: 4px;\n",
              "    }\n",
              "\n",
              "    [theme=dark] .colab-df-convert {\n",
              "      background-color: #3B4455;\n",
              "      fill: #D2E3FC;\n",
              "    }\n",
              "\n",
              "    [theme=dark] .colab-df-convert:hover {\n",
              "      background-color: #434B5C;\n",
              "      box-shadow: 0px 1px 3px 1px rgba(0, 0, 0, 0.15);\n",
              "      filter: drop-shadow(0px 1px 2px rgba(0, 0, 0, 0.3));\n",
              "      fill: #FFFFFF;\n",
              "    }\n",
              "  </style>\n",
              "\n",
              "    <script>\n",
              "      const buttonEl =\n",
              "        document.querySelector('#df-c66fcbce-5fa7-4180-b453-b5624a096748 button.colab-df-convert');\n",
              "      buttonEl.style.display =\n",
              "        google.colab.kernel.accessAllowed ? 'block' : 'none';\n",
              "\n",
              "      async function convertToInteractive(key) {\n",
              "        const element = document.querySelector('#df-c66fcbce-5fa7-4180-b453-b5624a096748');\n",
              "        const dataTable =\n",
              "          await google.colab.kernel.invokeFunction('convertToInteractive',\n",
              "                                                    [key], {});\n",
              "        if (!dataTable) return;\n",
              "\n",
              "        const docLinkHtml = 'Like what you see? Visit the ' +\n",
              "          '<a target=\"_blank\" href=https://colab.research.google.com/notebooks/data_table.ipynb>data table notebook</a>'\n",
              "          + ' to learn more about interactive tables.';\n",
              "        element.innerHTML = '';\n",
              "        dataTable['output_type'] = 'display_data';\n",
              "        await google.colab.output.renderOutput(dataTable, element);\n",
              "        const docLink = document.createElement('div');\n",
              "        docLink.innerHTML = docLinkHtml;\n",
              "        element.appendChild(docLink);\n",
              "      }\n",
              "    </script>\n",
              "  </div>\n",
              "\n",
              "\n",
              "<div id=\"df-85578e61-73c1-40ce-8e53-0417c907b321\">\n",
              "  <button class=\"colab-df-quickchart\" onclick=\"quickchart('df-85578e61-73c1-40ce-8e53-0417c907b321')\"\n",
              "            title=\"Suggest charts\"\n",
              "            style=\"display:none;\">\n",
              "\n",
              "<svg xmlns=\"http://www.w3.org/2000/svg\" height=\"24px\"viewBox=\"0 0 24 24\"\n",
              "     width=\"24px\">\n",
              "    <g>\n",
              "        <path d=\"M19 3H5c-1.1 0-2 .9-2 2v14c0 1.1.9 2 2 2h14c1.1 0 2-.9 2-2V5c0-1.1-.9-2-2-2zM9 17H7v-7h2v7zm4 0h-2V7h2v10zm4 0h-2v-4h2v4z\"/>\n",
              "    </g>\n",
              "</svg>\n",
              "  </button>\n",
              "\n",
              "<style>\n",
              "  .colab-df-quickchart {\n",
              "      --bg-color: #E8F0FE;\n",
              "      --fill-color: #1967D2;\n",
              "      --hover-bg-color: #E2EBFA;\n",
              "      --hover-fill-color: #174EA6;\n",
              "      --disabled-fill-color: #AAA;\n",
              "      --disabled-bg-color: #DDD;\n",
              "  }\n",
              "\n",
              "  [theme=dark] .colab-df-quickchart {\n",
              "      --bg-color: #3B4455;\n",
              "      --fill-color: #D2E3FC;\n",
              "      --hover-bg-color: #434B5C;\n",
              "      --hover-fill-color: #FFFFFF;\n",
              "      --disabled-bg-color: #3B4455;\n",
              "      --disabled-fill-color: #666;\n",
              "  }\n",
              "\n",
              "  .colab-df-quickchart {\n",
              "    background-color: var(--bg-color);\n",
              "    border: none;\n",
              "    border-radius: 50%;\n",
              "    cursor: pointer;\n",
              "    display: none;\n",
              "    fill: var(--fill-color);\n",
              "    height: 32px;\n",
              "    padding: 0;\n",
              "    width: 32px;\n",
              "  }\n",
              "\n",
              "  .colab-df-quickchart:hover {\n",
              "    background-color: var(--hover-bg-color);\n",
              "    box-shadow: 0 1px 2px rgba(60, 64, 67, 0.3), 0 1px 3px 1px rgba(60, 64, 67, 0.15);\n",
              "    fill: var(--button-hover-fill-color);\n",
              "  }\n",
              "\n",
              "  .colab-df-quickchart-complete:disabled,\n",
              "  .colab-df-quickchart-complete:disabled:hover {\n",
              "    background-color: var(--disabled-bg-color);\n",
              "    fill: var(--disabled-fill-color);\n",
              "    box-shadow: none;\n",
              "  }\n",
              "\n",
              "  .colab-df-spinner {\n",
              "    border: 2px solid var(--fill-color);\n",
              "    border-color: transparent;\n",
              "    border-bottom-color: var(--fill-color);\n",
              "    animation:\n",
              "      spin 1s steps(1) infinite;\n",
              "  }\n",
              "\n",
              "  @keyframes spin {\n",
              "    0% {\n",
              "      border-color: transparent;\n",
              "      border-bottom-color: var(--fill-color);\n",
              "      border-left-color: var(--fill-color);\n",
              "    }\n",
              "    20% {\n",
              "      border-color: transparent;\n",
              "      border-left-color: var(--fill-color);\n",
              "      border-top-color: var(--fill-color);\n",
              "    }\n",
              "    30% {\n",
              "      border-color: transparent;\n",
              "      border-left-color: var(--fill-color);\n",
              "      border-top-color: var(--fill-color);\n",
              "      border-right-color: var(--fill-color);\n",
              "    }\n",
              "    40% {\n",
              "      border-color: transparent;\n",
              "      border-right-color: var(--fill-color);\n",
              "      border-top-color: var(--fill-color);\n",
              "    }\n",
              "    60% {\n",
              "      border-color: transparent;\n",
              "      border-right-color: var(--fill-color);\n",
              "    }\n",
              "    80% {\n",
              "      border-color: transparent;\n",
              "      border-right-color: var(--fill-color);\n",
              "      border-bottom-color: var(--fill-color);\n",
              "    }\n",
              "    90% {\n",
              "      border-color: transparent;\n",
              "      border-bottom-color: var(--fill-color);\n",
              "    }\n",
              "  }\n",
              "</style>\n",
              "\n",
              "  <script>\n",
              "    async function quickchart(key) {\n",
              "      const quickchartButtonEl =\n",
              "        document.querySelector('#' + key + ' button');\n",
              "      quickchartButtonEl.disabled = true;  // To prevent multiple clicks.\n",
              "      quickchartButtonEl.classList.add('colab-df-spinner');\n",
              "      try {\n",
              "        const charts = await google.colab.kernel.invokeFunction(\n",
              "            'suggestCharts', [key], {});\n",
              "      } catch (error) {\n",
              "        console.error('Error during call to suggestCharts:', error);\n",
              "      }\n",
              "      quickchartButtonEl.classList.remove('colab-df-spinner');\n",
              "      quickchartButtonEl.classList.add('colab-df-quickchart-complete');\n",
              "    }\n",
              "    (() => {\n",
              "      let quickchartButtonEl =\n",
              "        document.querySelector('#df-85578e61-73c1-40ce-8e53-0417c907b321 button');\n",
              "      quickchartButtonEl.style.display =\n",
              "        google.colab.kernel.accessAllowed ? 'block' : 'none';\n",
              "    })();\n",
              "  </script>\n",
              "</div>\n",
              "\n",
              "  <div id=\"id_ddcefd12-a7e7-4b21-9e63-a6e76a85a26b\">\n",
              "    <style>\n",
              "      .colab-df-generate {\n",
              "        background-color: #E8F0FE;\n",
              "        border: none;\n",
              "        border-radius: 50%;\n",
              "        cursor: pointer;\n",
              "        display: none;\n",
              "        fill: #1967D2;\n",
              "        height: 32px;\n",
              "        padding: 0 0 0 0;\n",
              "        width: 32px;\n",
              "      }\n",
              "\n",
              "      .colab-df-generate:hover {\n",
              "        background-color: #E2EBFA;\n",
              "        box-shadow: 0px 1px 2px rgba(60, 64, 67, 0.3), 0px 1px 3px 1px rgba(60, 64, 67, 0.15);\n",
              "        fill: #174EA6;\n",
              "      }\n",
              "\n",
              "      [theme=dark] .colab-df-generate {\n",
              "        background-color: #3B4455;\n",
              "        fill: #D2E3FC;\n",
              "      }\n",
              "\n",
              "      [theme=dark] .colab-df-generate:hover {\n",
              "        background-color: #434B5C;\n",
              "        box-shadow: 0px 1px 3px 1px rgba(0, 0, 0, 0.15);\n",
              "        filter: drop-shadow(0px 1px 2px rgba(0, 0, 0, 0.3));\n",
              "        fill: #FFFFFF;\n",
              "      }\n",
              "    </style>\n",
              "    <button class=\"colab-df-generate\" onclick=\"generateWithVariable('outliers_count_df')\"\n",
              "            title=\"Generate code using this dataframe.\"\n",
              "            style=\"display:none;\">\n",
              "\n",
              "  <svg xmlns=\"http://www.w3.org/2000/svg\" height=\"24px\"viewBox=\"0 0 24 24\"\n",
              "       width=\"24px\">\n",
              "    <path d=\"M7,19H8.4L18.45,9,17,7.55,7,17.6ZM5,21V16.75L18.45,3.32a2,2,0,0,1,2.83,0l1.4,1.43a1.91,1.91,0,0,1,.58,1.4,1.91,1.91,0,0,1-.58,1.4L9.25,21ZM18.45,9,17,7.55Zm-12,3A5.31,5.31,0,0,0,4.9,8.1,5.31,5.31,0,0,0,1,6.5,5.31,5.31,0,0,0,4.9,4.9,5.31,5.31,0,0,0,6.5,1,5.31,5.31,0,0,0,8.1,4.9,5.31,5.31,0,0,0,12,6.5,5.46,5.46,0,0,0,6.5,12Z\"/>\n",
              "  </svg>\n",
              "    </button>\n",
              "    <script>\n",
              "      (() => {\n",
              "      const buttonEl =\n",
              "        document.querySelector('#id_ddcefd12-a7e7-4b21-9e63-a6e76a85a26b button.colab-df-generate');\n",
              "      buttonEl.style.display =\n",
              "        google.colab.kernel.accessAllowed ? 'block' : 'none';\n",
              "\n",
              "      buttonEl.onclick = () => {\n",
              "        google.colab.notebook.generateWithVariable('outliers_count_df');\n",
              "      }\n",
              "      })();\n",
              "    </script>\n",
              "  </div>\n",
              "\n",
              "    </div>\n",
              "  </div>\n"
            ],
            "application/vnd.google.colaboratory.intrinsic+json": {
              "type": "dataframe",
              "variable_name": "outliers_count_df",
              "summary": "{\n  \"name\": \"outliers_count_df\",\n  \"rows\": 6,\n  \"fields\": [\n    {\n      \"column\": \"Features\",\n      \"properties\": {\n        \"dtype\": \"string\",\n        \"num_unique_values\": 6,\n        \"samples\": [\n          \"MarketID\",\n          \"LocationID\",\n          \"SalesInThousands\"\n        ],\n        \"semantic_type\": \"\",\n        \"description\": \"\"\n      }\n    },\n    {\n      \"column\": \"Number of Outliers\",\n      \"properties\": {\n        \"dtype\": \"number\",\n        \"std\": 13,\n        \"min\": 0,\n        \"max\": 33,\n        \"num_unique_values\": 3,\n        \"samples\": [\n          0,\n          12,\n          33\n        ],\n        \"semantic_type\": \"\",\n        \"description\": \"\"\n      }\n    }\n  ]\n}"
            }
          },
          "metadata": {},
          "execution_count": 2
        }
      ],
      "source": [
        "def count_outliers(column):\n",
        "    \"\"\"Count the number of outliers in a column using the IQR method.\"\"\"\n",
        "    Q1 = column.quantile(0.25)\n",
        "    Q3 = column.quantile(0.75)\n",
        "    IQR = Q3 - Q1\n",
        "    lower_bound = Q1 - 1.5 * IQR\n",
        "    upper_bound = Q3 + 1.5 * IQR\n",
        "    return ((column < lower_bound) | (column > upper_bound)).sum()\n",
        "\n",
        "# Select numeric columns\n",
        "numeric_cols = df.select_dtypes(include=np.number)\n",
        "\n",
        "# Count outliers for each numeric column\n",
        "outliers_count = numeric_cols.apply(count_outliers)\n",
        "\n",
        "# Convert to DataFrame for display\n",
        "outliers_count_df = outliers_count.reset_index()\n",
        "outliers_count_df.columns = ['Features', 'Number of Outliers']\n",
        "outliers_count_df"
      ]
    },
    {
      "cell_type": "code",
      "execution_count": null,
      "id": "9c5435bb",
      "metadata": {
        "id": "9c5435bb",
        "outputId": "1717f2b0-d1cc-41c8-a3d0-68dfb60b2f53"
      },
      "outputs": [
        {
          "name": "stdout",
          "output_type": "stream",
          "text": [
            "IQR: 17.932499999999997\n",
            "upper: 87.37625\n",
            "lower: 15.646250000000006\n"
          ]
        }
      ],
      "source": [
        "# The upper and lower bounds for outliers.\n",
        "Q1 = df['SalesInThousands'].quantile(0.25)\n",
        "Q3 = df['SalesInThousands'].quantile(0.75)\n",
        "IQR = Q3 - Q1\n",
        "lower_bound = Q1 - 1.5 * IQR\n",
        "upper_bound = Q3 + 1.5 * IQR\n",
        "\n",
        "print('IQR:', IQR)\n",
        "print('upper:', upper_bound)\n",
        "print('lower:', lower_bound)"
      ]
    },
    {
      "cell_type": "code",
      "execution_count": null,
      "id": "c80c3629",
      "metadata": {
        "id": "c80c3629",
        "outputId": "90e6256f-9e76-4365-aa52-cb3b64aaa07b"
      },
      "outputs": [
        {
          "name": "stdout",
          "output_type": "stream",
          "text": [
            "outliersupper_sales: 33\n",
            "outlierslower_sales: 0\n"
          ]
        }
      ],
      "source": [
        "# Number of Outliers in SalesInThousands\n",
        "outliersupper_sales = df['SalesInThousands'] >= 87.37625\n",
        "outlierslower_sales = df['SalesInThousands'] <= 15.64625\n",
        "print('outliersupper_sales:', outliersupper_sales.sum())\n",
        "print('outlierslower_sales:', outlierslower_sales.sum())"
      ]
    },
    {
      "cell_type": "code",
      "execution_count": null,
      "id": "205cc58b",
      "metadata": {
        "id": "205cc58b",
        "outputId": "b2eeb72d-fdb3-44ca-e32f-e70ef2d1792b"
      },
      "outputs": [
        {
          "data": {
            "text/html": [
              "<div>\n",
              "<style scoped>\n",
              "    .dataframe tbody tr th:only-of-type {\n",
              "        vertical-align: middle;\n",
              "    }\n",
              "\n",
              "    .dataframe tbody tr th {\n",
              "        vertical-align: top;\n",
              "    }\n",
              "\n",
              "    .dataframe thead th {\n",
              "        text-align: right;\n",
              "    }\n",
              "</style>\n",
              "<table border=\"1\" class=\"dataframe\">\n",
              "  <thead>\n",
              "    <tr style=\"text-align: right;\">\n",
              "      <th></th>\n",
              "      <th>MarketID</th>\n",
              "      <th>MarketSize</th>\n",
              "      <th>LocationID</th>\n",
              "      <th>AgeOfStore</th>\n",
              "      <th>Promotion</th>\n",
              "      <th>week</th>\n",
              "      <th>SalesInThousands</th>\n",
              "    </tr>\n",
              "  </thead>\n",
              "  <tbody>\n",
              "    <tr>\n",
              "      <th>144</th>\n",
              "      <td>3</td>\n",
              "      <td>0</td>\n",
              "      <td>218</td>\n",
              "      <td>2</td>\n",
              "      <td>1</td>\n",
              "      <td>1</td>\n",
              "      <td>99.65</td>\n",
              "    </tr>\n",
              "    <tr>\n",
              "      <th>154</th>\n",
              "      <td>3</td>\n",
              "      <td>0</td>\n",
              "      <td>220</td>\n",
              "      <td>3</td>\n",
              "      <td>1</td>\n",
              "      <td>3</td>\n",
              "      <td>99.12</td>\n",
              "    </tr>\n",
              "    <tr>\n",
              "      <th>111</th>\n",
              "      <td>3</td>\n",
              "      <td>0</td>\n",
              "      <td>209</td>\n",
              "      <td>1</td>\n",
              "      <td>1</td>\n",
              "      <td>4</td>\n",
              "      <td>97.61</td>\n",
              "    </tr>\n",
              "    <tr>\n",
              "      <th>104</th>\n",
              "      <td>3</td>\n",
              "      <td>0</td>\n",
              "      <td>208</td>\n",
              "      <td>1</td>\n",
              "      <td>3</td>\n",
              "      <td>1</td>\n",
              "      <td>96.48</td>\n",
              "    </tr>\n",
              "    <tr>\n",
              "      <th>109</th>\n",
              "      <td>3</td>\n",
              "      <td>0</td>\n",
              "      <td>209</td>\n",
              "      <td>1</td>\n",
              "      <td>1</td>\n",
              "      <td>2</td>\n",
              "      <td>96.01</td>\n",
              "    </tr>\n",
              "    <tr>\n",
              "      <th>136</th>\n",
              "      <td>3</td>\n",
              "      <td>0</td>\n",
              "      <td>216</td>\n",
              "      <td>4</td>\n",
              "      <td>3</td>\n",
              "      <td>1</td>\n",
              "      <td>94.89</td>\n",
              "    </tr>\n",
              "    <tr>\n",
              "      <th>114</th>\n",
              "      <td>3</td>\n",
              "      <td>0</td>\n",
              "      <td>210</td>\n",
              "      <td>19</td>\n",
              "      <td>1</td>\n",
              "      <td>3</td>\n",
              "      <td>94.43</td>\n",
              "    </tr>\n",
              "    <tr>\n",
              "      <th>103</th>\n",
              "      <td>3</td>\n",
              "      <td>0</td>\n",
              "      <td>207</td>\n",
              "      <td>1</td>\n",
              "      <td>3</td>\n",
              "      <td>4</td>\n",
              "      <td>94.21</td>\n",
              "    </tr>\n",
              "    <tr>\n",
              "      <th>83</th>\n",
              "      <td>3</td>\n",
              "      <td>0</td>\n",
              "      <td>202</td>\n",
              "      <td>8</td>\n",
              "      <td>1</td>\n",
              "      <td>4</td>\n",
              "      <td>94.17</td>\n",
              "    </tr>\n",
              "    <tr>\n",
              "      <th>130</th>\n",
              "      <td>3</td>\n",
              "      <td>0</td>\n",
              "      <td>214</td>\n",
              "      <td>5</td>\n",
              "      <td>1</td>\n",
              "      <td>3</td>\n",
              "      <td>93.86</td>\n",
              "    </tr>\n",
              "    <tr>\n",
              "      <th>108</th>\n",
              "      <td>3</td>\n",
              "      <td>0</td>\n",
              "      <td>209</td>\n",
              "      <td>1</td>\n",
              "      <td>1</td>\n",
              "      <td>1</td>\n",
              "      <td>93.71</td>\n",
              "    </tr>\n",
              "    <tr>\n",
              "      <th>138</th>\n",
              "      <td>3</td>\n",
              "      <td>0</td>\n",
              "      <td>216</td>\n",
              "      <td>4</td>\n",
              "      <td>3</td>\n",
              "      <td>3</td>\n",
              "      <td>93.63</td>\n",
              "    </tr>\n",
              "    <tr>\n",
              "      <th>160</th>\n",
              "      <td>3</td>\n",
              "      <td>0</td>\n",
              "      <td>222</td>\n",
              "      <td>6</td>\n",
              "      <td>1</td>\n",
              "      <td>1</td>\n",
              "      <td>93.32</td>\n",
              "    </tr>\n",
              "    <tr>\n",
              "      <th>110</th>\n",
              "      <td>3</td>\n",
              "      <td>0</td>\n",
              "      <td>209</td>\n",
              "      <td>1</td>\n",
              "      <td>1</td>\n",
              "      <td>3</td>\n",
              "      <td>93.03</td>\n",
              "    </tr>\n",
              "    <tr>\n",
              "      <th>106</th>\n",
              "      <td>3</td>\n",
              "      <td>0</td>\n",
              "      <td>208</td>\n",
              "      <td>1</td>\n",
              "      <td>3</td>\n",
              "      <td>3</td>\n",
              "      <td>91.98</td>\n",
              "    </tr>\n",
              "    <tr>\n",
              "      <th>140</th>\n",
              "      <td>3</td>\n",
              "      <td>0</td>\n",
              "      <td>217</td>\n",
              "      <td>5</td>\n",
              "      <td>3</td>\n",
              "      <td>1</td>\n",
              "      <td>91.61</td>\n",
              "    </tr>\n",
              "    <tr>\n",
              "      <th>128</th>\n",
              "      <td>3</td>\n",
              "      <td>0</td>\n",
              "      <td>214</td>\n",
              "      <td>5</td>\n",
              "      <td>1</td>\n",
              "      <td>1</td>\n",
              "      <td>91.60</td>\n",
              "    </tr>\n",
              "    <tr>\n",
              "      <th>163</th>\n",
              "      <td>3</td>\n",
              "      <td>0</td>\n",
              "      <td>222</td>\n",
              "      <td>6</td>\n",
              "      <td>1</td>\n",
              "      <td>4</td>\n",
              "      <td>91.29</td>\n",
              "    </tr>\n",
              "    <tr>\n",
              "      <th>93</th>\n",
              "      <td>3</td>\n",
              "      <td>0</td>\n",
              "      <td>205</td>\n",
              "      <td>19</td>\n",
              "      <td>3</td>\n",
              "      <td>2</td>\n",
              "      <td>90.30</td>\n",
              "    </tr>\n",
              "    <tr>\n",
              "      <th>95</th>\n",
              "      <td>3</td>\n",
              "      <td>0</td>\n",
              "      <td>205</td>\n",
              "      <td>19</td>\n",
              "      <td>3</td>\n",
              "      <td>4</td>\n",
              "      <td>89.77</td>\n",
              "    </tr>\n",
              "    <tr>\n",
              "      <th>84</th>\n",
              "      <td>3</td>\n",
              "      <td>0</td>\n",
              "      <td>203</td>\n",
              "      <td>12</td>\n",
              "      <td>3</td>\n",
              "      <td>1</td>\n",
              "      <td>89.70</td>\n",
              "    </tr>\n",
              "    <tr>\n",
              "      <th>115</th>\n",
              "      <td>3</td>\n",
              "      <td>0</td>\n",
              "      <td>210</td>\n",
              "      <td>19</td>\n",
              "      <td>1</td>\n",
              "      <td>4</td>\n",
              "      <td>89.44</td>\n",
              "    </tr>\n",
              "    <tr>\n",
              "      <th>153</th>\n",
              "      <td>3</td>\n",
              "      <td>0</td>\n",
              "      <td>220</td>\n",
              "      <td>3</td>\n",
              "      <td>1</td>\n",
              "      <td>2</td>\n",
              "      <td>89.32</td>\n",
              "    </tr>\n",
              "    <tr>\n",
              "      <th>147</th>\n",
              "      <td>3</td>\n",
              "      <td>0</td>\n",
              "      <td>218</td>\n",
              "      <td>2</td>\n",
              "      <td>1</td>\n",
              "      <td>4</td>\n",
              "      <td>89.25</td>\n",
              "    </tr>\n",
              "    <tr>\n",
              "      <th>99</th>\n",
              "      <td>3</td>\n",
              "      <td>0</td>\n",
              "      <td>206</td>\n",
              "      <td>11</td>\n",
              "      <td>3</td>\n",
              "      <td>4</td>\n",
              "      <td>88.91</td>\n",
              "    </tr>\n",
              "    <tr>\n",
              "      <th>80</th>\n",
              "      <td>3</td>\n",
              "      <td>0</td>\n",
              "      <td>202</td>\n",
              "      <td>8</td>\n",
              "      <td>1</td>\n",
              "      <td>1</td>\n",
              "      <td>88.73</td>\n",
              "    </tr>\n",
              "    <tr>\n",
              "      <th>145</th>\n",
              "      <td>3</td>\n",
              "      <td>0</td>\n",
              "      <td>218</td>\n",
              "      <td>2</td>\n",
              "      <td>1</td>\n",
              "      <td>2</td>\n",
              "      <td>88.64</td>\n",
              "    </tr>\n",
              "    <tr>\n",
              "      <th>116</th>\n",
              "      <td>3</td>\n",
              "      <td>0</td>\n",
              "      <td>211</td>\n",
              "      <td>13</td>\n",
              "      <td>2</td>\n",
              "      <td>1</td>\n",
              "      <td>88.64</td>\n",
              "    </tr>\n",
              "    <tr>\n",
              "      <th>90</th>\n",
              "      <td>3</td>\n",
              "      <td>0</td>\n",
              "      <td>204</td>\n",
              "      <td>1</td>\n",
              "      <td>2</td>\n",
              "      <td>3</td>\n",
              "      <td>88.12</td>\n",
              "    </tr>\n",
              "    <tr>\n",
              "      <th>113</th>\n",
              "      <td>3</td>\n",
              "      <td>0</td>\n",
              "      <td>210</td>\n",
              "      <td>19</td>\n",
              "      <td>1</td>\n",
              "      <td>2</td>\n",
              "      <td>88.07</td>\n",
              "    </tr>\n",
              "    <tr>\n",
              "      <th>121</th>\n",
              "      <td>3</td>\n",
              "      <td>0</td>\n",
              "      <td>212</td>\n",
              "      <td>3</td>\n",
              "      <td>3</td>\n",
              "      <td>2</td>\n",
              "      <td>87.90</td>\n",
              "    </tr>\n",
              "    <tr>\n",
              "      <th>100</th>\n",
              "      <td>3</td>\n",
              "      <td>0</td>\n",
              "      <td>207</td>\n",
              "      <td>1</td>\n",
              "      <td>3</td>\n",
              "      <td>1</td>\n",
              "      <td>87.70</td>\n",
              "    </tr>\n",
              "    <tr>\n",
              "      <th>88</th>\n",
              "      <td>3</td>\n",
              "      <td>0</td>\n",
              "      <td>204</td>\n",
              "      <td>1</td>\n",
              "      <td>2</td>\n",
              "      <td>1</td>\n",
              "      <td>87.43</td>\n",
              "    </tr>\n",
              "  </tbody>\n",
              "</table>\n",
              "</div>"
            ],
            "text/plain": [
              "     MarketID  MarketSize  LocationID  AgeOfStore  Promotion  week  \\\n",
              "144         3           0         218           2          1     1   \n",
              "154         3           0         220           3          1     3   \n",
              "111         3           0         209           1          1     4   \n",
              "104         3           0         208           1          3     1   \n",
              "109         3           0         209           1          1     2   \n",
              "136         3           0         216           4          3     1   \n",
              "114         3           0         210          19          1     3   \n",
              "103         3           0         207           1          3     4   \n",
              "83          3           0         202           8          1     4   \n",
              "130         3           0         214           5          1     3   \n",
              "108         3           0         209           1          1     1   \n",
              "138         3           0         216           4          3     3   \n",
              "160         3           0         222           6          1     1   \n",
              "110         3           0         209           1          1     3   \n",
              "106         3           0         208           1          3     3   \n",
              "140         3           0         217           5          3     1   \n",
              "128         3           0         214           5          1     1   \n",
              "163         3           0         222           6          1     4   \n",
              "93          3           0         205          19          3     2   \n",
              "95          3           0         205          19          3     4   \n",
              "84          3           0         203          12          3     1   \n",
              "115         3           0         210          19          1     4   \n",
              "153         3           0         220           3          1     2   \n",
              "147         3           0         218           2          1     4   \n",
              "99          3           0         206          11          3     4   \n",
              "80          3           0         202           8          1     1   \n",
              "145         3           0         218           2          1     2   \n",
              "116         3           0         211          13          2     1   \n",
              "90          3           0         204           1          2     3   \n",
              "113         3           0         210          19          1     2   \n",
              "121         3           0         212           3          3     2   \n",
              "100         3           0         207           1          3     1   \n",
              "88          3           0         204           1          2     1   \n",
              "\n",
              "     SalesInThousands  \n",
              "144             99.65  \n",
              "154             99.12  \n",
              "111             97.61  \n",
              "104             96.48  \n",
              "109             96.01  \n",
              "136             94.89  \n",
              "114             94.43  \n",
              "103             94.21  \n",
              "83              94.17  \n",
              "130             93.86  \n",
              "108             93.71  \n",
              "138             93.63  \n",
              "160             93.32  \n",
              "110             93.03  \n",
              "106             91.98  \n",
              "140             91.61  \n",
              "128             91.60  \n",
              "163             91.29  \n",
              "93              90.30  \n",
              "95              89.77  \n",
              "84              89.70  \n",
              "115             89.44  \n",
              "153             89.32  \n",
              "147             89.25  \n",
              "99              88.91  \n",
              "80              88.73  \n",
              "145             88.64  \n",
              "116             88.64  \n",
              "90              88.12  \n",
              "113             88.07  \n",
              "121             87.90  \n",
              "100             87.70  \n",
              "88              87.43  "
            ]
          },
          "execution_count": 31,
          "metadata": {},
          "output_type": "execute_result"
        }
      ],
      "source": [
        "# Outliers in SalesInThousands\n",
        "df[outliersupper_sales].sort_values(by = 'SalesInThousands', ascending=False)"
      ]
    },
    {
      "cell_type": "code",
      "execution_count": null,
      "id": "ce585acc",
      "metadata": {
        "id": "ce585acc",
        "outputId": "fe3ee1fb-f76c-42e3-a967-462ca31bb444"
      },
      "outputs": [
        {
          "name": "stdout",
          "output_type": "stream",
          "text": [
            "IQR: 8.0\n",
            "upper: 24.0\n",
            "lower: -8.0\n"
          ]
        }
      ],
      "source": [
        "# The upper and lower bounds for outliers.\n",
        "\n",
        "Q1 = df['AgeOfStore'].quantile(0.25)\n",
        "Q3 = df['AgeOfStore'].quantile(0.75)\n",
        "IQR = Q3 - Q1\n",
        "lower_bound = Q1 - 1.5 * IQR\n",
        "upper_bound = Q3 + 1.5 * IQR\n",
        "\n",
        "print('IQR:', IQR)\n",
        "print('upper:', upper_bound)\n",
        "print('lower:', lower_bound)"
      ]
    },
    {
      "cell_type": "code",
      "execution_count": null,
      "id": "f521c49f",
      "metadata": {
        "id": "f521c49f",
        "outputId": "b6c5951f-1758-4e86-a43a-9d4fe6e999e9"
      },
      "outputs": [
        {
          "name": "stdout",
          "output_type": "stream",
          "text": [
            "outliersupper_AgeOfStore: 12\n",
            "outlierslower_AgeOfStore: 0\n"
          ]
        }
      ],
      "source": [
        "# Number of Outliers in AgeOfStore\n",
        "outliersupper_AgeOfStore = df['AgeOfStore'] > 24.0\n",
        "outlierslower_AgeOfStore = df['AgeOfStore'] <= -8.0\n",
        "print('outliersupper_AgeOfStore:', outliersupper_AgeOfStore.sum())\n",
        "print('outlierslower_AgeOfStore:', outlierslower_AgeOfStore.sum())"
      ]
    },
    {
      "cell_type": "code",
      "execution_count": null,
      "id": "dfd8ead1",
      "metadata": {
        "scrolled": true,
        "id": "dfd8ead1",
        "outputId": "41d4afc5-6c41-4607-b0b2-fd23ffa41b4b"
      },
      "outputs": [
        {
          "data": {
            "text/html": [
              "<div>\n",
              "<style scoped>\n",
              "    .dataframe tbody tr th:only-of-type {\n",
              "        vertical-align: middle;\n",
              "    }\n",
              "\n",
              "    .dataframe tbody tr th {\n",
              "        vertical-align: top;\n",
              "    }\n",
              "\n",
              "    .dataframe thead th {\n",
              "        text-align: right;\n",
              "    }\n",
              "</style>\n",
              "<table border=\"1\" class=\"dataframe\">\n",
              "  <thead>\n",
              "    <tr style=\"text-align: right;\">\n",
              "      <th></th>\n",
              "      <th>MarketID</th>\n",
              "      <th>MarketSize</th>\n",
              "      <th>LocationID</th>\n",
              "      <th>AgeOfStore</th>\n",
              "      <th>Promotion</th>\n",
              "      <th>week</th>\n",
              "      <th>SalesInThousands</th>\n",
              "    </tr>\n",
              "  </thead>\n",
              "  <tbody>\n",
              "    <tr>\n",
              "      <th>192</th>\n",
              "      <td>4</td>\n",
              "      <td>2</td>\n",
              "      <td>308</td>\n",
              "      <td>28</td>\n",
              "      <td>2</td>\n",
              "      <td>1</td>\n",
              "      <td>51.87</td>\n",
              "    </tr>\n",
              "    <tr>\n",
              "      <th>193</th>\n",
              "      <td>4</td>\n",
              "      <td>2</td>\n",
              "      <td>308</td>\n",
              "      <td>28</td>\n",
              "      <td>2</td>\n",
              "      <td>2</td>\n",
              "      <td>58.01</td>\n",
              "    </tr>\n",
              "    <tr>\n",
              "      <th>194</th>\n",
              "      <td>4</td>\n",
              "      <td>2</td>\n",
              "      <td>308</td>\n",
              "      <td>28</td>\n",
              "      <td>2</td>\n",
              "      <td>3</td>\n",
              "      <td>47.93</td>\n",
              "    </tr>\n",
              "    <tr>\n",
              "      <th>195</th>\n",
              "      <td>4</td>\n",
              "      <td>2</td>\n",
              "      <td>308</td>\n",
              "      <td>28</td>\n",
              "      <td>2</td>\n",
              "      <td>4</td>\n",
              "      <td>51.33</td>\n",
              "    </tr>\n",
              "    <tr>\n",
              "      <th>392</th>\n",
              "      <td>8</td>\n",
              "      <td>1</td>\n",
              "      <td>704</td>\n",
              "      <td>27</td>\n",
              "      <td>1</td>\n",
              "      <td>1</td>\n",
              "      <td>56.64</td>\n",
              "    </tr>\n",
              "    <tr>\n",
              "      <th>393</th>\n",
              "      <td>8</td>\n",
              "      <td>1</td>\n",
              "      <td>704</td>\n",
              "      <td>27</td>\n",
              "      <td>1</td>\n",
              "      <td>2</td>\n",
              "      <td>46.06</td>\n",
              "    </tr>\n",
              "    <tr>\n",
              "      <th>394</th>\n",
              "      <td>8</td>\n",
              "      <td>1</td>\n",
              "      <td>704</td>\n",
              "      <td>27</td>\n",
              "      <td>1</td>\n",
              "      <td>3</td>\n",
              "      <td>55.46</td>\n",
              "    </tr>\n",
              "    <tr>\n",
              "      <th>395</th>\n",
              "      <td>8</td>\n",
              "      <td>1</td>\n",
              "      <td>704</td>\n",
              "      <td>27</td>\n",
              "      <td>1</td>\n",
              "      <td>4</td>\n",
              "      <td>51.41</td>\n",
              "    </tr>\n",
              "    <tr>\n",
              "      <th>204</th>\n",
              "      <td>5</td>\n",
              "      <td>1</td>\n",
              "      <td>402</td>\n",
              "      <td>25</td>\n",
              "      <td>2</td>\n",
              "      <td>1</td>\n",
              "      <td>40.40</td>\n",
              "    </tr>\n",
              "    <tr>\n",
              "      <th>205</th>\n",
              "      <td>5</td>\n",
              "      <td>1</td>\n",
              "      <td>402</td>\n",
              "      <td>25</td>\n",
              "      <td>2</td>\n",
              "      <td>2</td>\n",
              "      <td>50.28</td>\n",
              "    </tr>\n",
              "    <tr>\n",
              "      <th>206</th>\n",
              "      <td>5</td>\n",
              "      <td>1</td>\n",
              "      <td>402</td>\n",
              "      <td>25</td>\n",
              "      <td>2</td>\n",
              "      <td>3</td>\n",
              "      <td>52.72</td>\n",
              "    </tr>\n",
              "    <tr>\n",
              "      <th>207</th>\n",
              "      <td>5</td>\n",
              "      <td>1</td>\n",
              "      <td>402</td>\n",
              "      <td>25</td>\n",
              "      <td>2</td>\n",
              "      <td>4</td>\n",
              "      <td>38.30</td>\n",
              "    </tr>\n",
              "  </tbody>\n",
              "</table>\n",
              "</div>"
            ],
            "text/plain": [
              "     MarketID  MarketSize  LocationID  AgeOfStore  Promotion  week  \\\n",
              "192         4           2         308          28          2     1   \n",
              "193         4           2         308          28          2     2   \n",
              "194         4           2         308          28          2     3   \n",
              "195         4           2         308          28          2     4   \n",
              "392         8           1         704          27          1     1   \n",
              "393         8           1         704          27          1     2   \n",
              "394         8           1         704          27          1     3   \n",
              "395         8           1         704          27          1     4   \n",
              "204         5           1         402          25          2     1   \n",
              "205         5           1         402          25          2     2   \n",
              "206         5           1         402          25          2     3   \n",
              "207         5           1         402          25          2     4   \n",
              "\n",
              "     SalesInThousands  \n",
              "192             51.87  \n",
              "193             58.01  \n",
              "194             47.93  \n",
              "195             51.33  \n",
              "392             56.64  \n",
              "393             46.06  \n",
              "394             55.46  \n",
              "395             51.41  \n",
              "204             40.40  \n",
              "205             50.28  \n",
              "206             52.72  \n",
              "207             38.30  "
            ]
          },
          "execution_count": 34,
          "metadata": {},
          "output_type": "execute_result"
        }
      ],
      "source": [
        "df[outliersupper_AgeOfStore].sort_values(by = 'AgeOfStore', ascending=False)"
      ]
    },
    {
      "cell_type": "markdown",
      "source": [
        "# **4. Modeling**\n",
        "\n",
        "\n",
        "  "
      ],
      "metadata": {
        "id": "Z5hNJtAFgnRa"
      },
      "id": "Z5hNJtAFgnRa"
    },
    {
      "cell_type": "code",
      "execution_count": 2,
      "id": "17b5fd72",
      "metadata": {
        "id": "17b5fd72"
      },
      "outputs": [],
      "source": [
        "# Importing Libraries to the models\n",
        "from sklearn.model_selection import train_test_split\n",
        "from sklearn.tree import DecisionTreeRegressor\n",
        "from sklearn.ensemble import RandomForestRegressor\n",
        "from sklearn.ensemble import GradientBoostingRegressor\n",
        "from sklearn.metrics import r2_score, mean_squared_error, mean_absolute_error\n",
        "\n",
        "# Split data\n",
        "x = df.drop('SalesInThousands', axis=1)\n",
        "y = df['SalesInThousands']\n",
        "\n",
        "x_train, x_test, y_train, y_test = train_test_split(x,y,test_size=0.2, random_state=0)"
      ]
    },
    {
      "cell_type": "code",
      "source": [
        "# Check columns in x_train and x_test\n",
        "print(x_train.columns)\n",
        "print(x_test.columns)\n"
      ],
      "metadata": {
        "colab": {
          "base_uri": "https://localhost:8080/"
        },
        "id": "Ut_wDjVNQoAm",
        "outputId": "debec6be-5b90-41c9-cbd9-0b9e59b9c8dc"
      },
      "id": "Ut_wDjVNQoAm",
      "execution_count": 3,
      "outputs": [
        {
          "output_type": "stream",
          "name": "stdout",
          "text": [
            "Index(['MarketID', 'LocationID', 'AgeOfStore', 'Promotion', 'week',\n",
            "       'MarketSize_Large', 'MarketSize_Medium', 'MarketSize_Small'],\n",
            "      dtype='object')\n",
            "Index(['MarketID', 'LocationID', 'AgeOfStore', 'Promotion', 'week',\n",
            "       'MarketSize_Large', 'MarketSize_Medium', 'MarketSize_Small'],\n",
            "      dtype='object')\n"
          ]
        }
      ]
    },
    {
      "cell_type": "code",
      "execution_count": 21,
      "id": "7b35f54c",
      "metadata": {
        "id": "7b35f54c",
        "outputId": "74734feb-b3a1-4673-bf52-02152c7c6cea",
        "colab": {
          "base_uri": "https://localhost:8080/"
        }
      },
      "outputs": [
        {
          "output_type": "execute_result",
          "data": {
            "text/plain": [
              "118    0\n",
              "159    0\n",
              "545    0\n",
              "284    1\n",
              "454    1\n",
              "Name: MarketSize, dtype: int64"
            ]
          },
          "metadata": {},
          "execution_count": 21
        }
      ],
      "source": [
        "from sklearn.preprocessing import LabelEncoder\n",
        "\n",
        "encoder = LabelEncoder()\n",
        "\n",
        "# Ajustando o encoder aos dados de treinamento e transformando-os\n",
        "x_train[\"MarketSize\"] = encoder.fit_transform(x_train[\"MarketSize\"])\n",
        "\n",
        "# Transformando os dados de teste com o mesmo encoder\n",
        "x_test[\"MarketSize\"] = encoder.transform(x_test[\"MarketSize\"])\n",
        "\n",
        "# Exibindo as primeiras linhas para verificar\n",
        "x_train[\"MarketSize\"].head()\n",
        "\n"
      ]
    },
    {
      "cell_type": "code",
      "source": [
        "from sklearn.preprocessing import PowerTransformer\n",
        "\n",
        "# Inicializando o PowerTransformer\n",
        "pt = PowerTransformer(method='yeo-johnson')\n",
        "\n",
        "# Redimensionando y_train e y_test para 2D\n",
        "y_train = y_train.values.reshape(-1, 1)\n",
        "y_test= y_test.values.reshape(-1, 1)\n",
        "\n",
        "# Aplicando a transformação\n",
        "y_train = pt.fit_transform(y_train)\n",
        "y_test= pt.transform(y_test)"
      ],
      "metadata": {
        "id": "TsfLuMARmfED"
      },
      "id": "TsfLuMARmfED",
      "execution_count": 6,
      "outputs": []
    },
    {
      "cell_type": "markdown",
      "source": [
        "**The Yeo-Johnson transformation** is a powerful method for making data more normal (Gaussian)-like. This can be particularly useful in regression models, where normality of the target variable can improve the model's performance and the validity of statistical assumptions.\n",
        "\n",
        "**Purpose and Benefit**:\n",
        "\n",
        "The primary purpose of applying the Yeo-Johnson transformation in this context is to reduce the impact of outliers and skewness in the distribution of the target variable. By making the target variable's distribution more Gaussian-like, it can lead to better model performance because many models make the assumption (explicitly or implicitly) that the target variable follows a normal distribution. Moreover, it can stabilize variance and make the model more sensitive to the main effects rather than being unduly influenced by extreme values."
      ],
      "metadata": {
        "id": "oOJFooHJ6YrB"
      },
      "id": "oOJFooHJ6YrB"
    },
    {
      "cell_type": "code",
      "execution_count": 8,
      "id": "a5a74f12",
      "metadata": {
        "id": "a5a74f12",
        "outputId": "5cd70c4c-4275-4db8-c854-fe50dba5c312",
        "colab": {
          "base_uri": "https://localhost:8080/"
        }
      },
      "outputs": [
        {
          "output_type": "stream",
          "name": "stdout",
          "text": [
            "R2: 0.7594550435130715\n",
            "MAE: 0.3954330094233341\n",
            "MSE: 0.2633003870478321\n",
            "RMSE: 0.5131280415723078\n"
          ]
        }
      ],
      "source": [
        "# DecisionTreeRegressor\n",
        "model_dt = DecisionTreeRegressor(random_state=0)\n",
        "model_dt.fit(x_train, y_train)\n",
        "y_pred_dt = model_dt.predict(x_test)\n",
        "\n",
        "rmse = mean_squared_error(y_test, y_pred_dt, squared = False)\n",
        "\n",
        "print('R2:', r2_score(y_test, y_pred_dt))\n",
        "print('MAE:', mean_absolute_error(y_test, y_pred_dt))\n",
        "print('MSE:', mean_squared_error(y_test, y_pred_dt))\n",
        "print('RMSE:', rmse)"
      ]
    },
    {
      "cell_type": "code",
      "execution_count": 25,
      "id": "4d11f993",
      "metadata": {
        "scrolled": true,
        "id": "4d11f993",
        "outputId": "df13f8af-775a-4e76-9167-6fd63c5c9285",
        "colab": {
          "base_uri": "https://localhost:8080/"
        }
      },
      "outputs": [
        {
          "output_type": "stream",
          "name": "stdout",
          "text": [
            "R2: 0.8139172092277804\n",
            "MAE: 0.3330234266900058\n",
            "MSE: 0.20368612815180215\n",
            "RMSE: 0.45131599589622584\n"
          ]
        }
      ],
      "source": [
        "# RandomForestRegressor\n",
        "model_rf = RandomForestRegressor()\n",
        "model_rf.fit(x_train, y_train)\n",
        "y_pred_rf = model_rf.predict(x_test)\n",
        "\n",
        "rmse = mean_squared_error(y_test, y_pred_rf, squared = False)\n",
        "\n",
        "print('R2:', r2_score(y_test, y_pred_rf))\n",
        "print('MAE:', mean_absolute_error(y_test, y_pred_rf))\n",
        "print('MSE:', mean_squared_error(y_test, y_pred_rf))\n",
        "print('RMSE:', rmse)"
      ]
    },
    {
      "cell_type": "code",
      "execution_count": 26,
      "id": "85df6113",
      "metadata": {
        "id": "85df6113",
        "outputId": "901f190c-671d-4220-f9a7-a66d66ea8856",
        "colab": {
          "base_uri": "https://localhost:8080/"
        }
      },
      "outputs": [
        {
          "output_type": "stream",
          "name": "stdout",
          "text": [
            "R2: 0.8293941238292873\n",
            "MAE: 0.312745511407468\n",
            "MSE: 0.18674510529936722\n",
            "RMSE: 0.4321401454382215\n"
          ]
        }
      ],
      "source": [
        "# GradientBoostingRegressor\n",
        "model_gbr = GradientBoostingRegressor()\n",
        "model_gbr.fit(x_train, y_train)\n",
        "y_pred_gbr = model_gbr.predict(x_test)\n",
        "\n",
        "rmse = mean_squared_error(y_test, y_pred_gbr, squared = False)\n",
        "\n",
        "print('R2:', r2_score(y_test, y_pred_gbr))\n",
        "print('MAE:', mean_absolute_error(y_test, y_pred_gbr))\n",
        "print('MSE:', mean_squared_error(y_test, y_pred_gbr))\n",
        "print('RMSE:', rmse)"
      ]
    },
    {
      "cell_type": "markdown",
      "id": "99d2e518",
      "metadata": {
        "id": "99d2e518"
      },
      "source": [
        "## Model Optimization"
      ]
    },
    {
      "cell_type": "markdown",
      "source": [
        "Model Optimization:\n",
        "        Decision Tree, Random Forest, and Gradient Boosting models were optimized with specific hyperparameters, improving their performance.\n",
        "\n",
        "    Ensemble Model: Combined predictions from the three models, achieving an R2 of 0.83."
      ],
      "metadata": {
        "id": "YlYyLijug2aK"
      },
      "id": "YlYyLijug2aK"
    },
    {
      "cell_type": "code",
      "execution_count": 11,
      "id": "0e7f6014",
      "metadata": {
        "id": "0e7f6014",
        "outputId": "26b0bafb-703b-4939-9396-9a7e1433f86b",
        "colab": {
          "base_uri": "https://localhost:8080/"
        }
      },
      "outputs": [
        {
          "output_type": "stream",
          "name": "stdout",
          "text": [
            "R2: 0.7944269346316654\n",
            "MAE: 0.34553681009876697\n",
            "MSE: 0.22502017281344724\n",
            "RMSE: 0.4743629125610973\n"
          ]
        }
      ],
      "source": [
        "# DecisionTreeRegressor optimized\n",
        "model_dt = DecisionTreeRegressor(\n",
        "    random_state=0,\n",
        "    criterion = 'absolute_error',\n",
        "    min_samples_leaf=4,\n",
        "    min_samples_split=10,\n",
        "    max_features=5,\n",
        "    max_depth=9,\n",
        "    splitter='best'\n",
        ")\n",
        "model_dt.fit(x_train, y_train)\n",
        "y_pred_dt = model_dt.predict(x_test)\n",
        "\n",
        "rmse = mean_squared_error(y_test, y_pred_dt, squared = False)\n",
        "\n",
        "print('R2:', r2_score(y_test, y_pred_dt))\n",
        "print('MAE:', mean_absolute_error(y_test, y_pred_dt))\n",
        "print('MSE:', mean_squared_error(y_test, y_pred_dt))\n",
        "print('RMSE:', rmse)"
      ]
    },
    {
      "cell_type": "code",
      "execution_count": 12,
      "id": "16621a1f",
      "metadata": {
        "id": "16621a1f",
        "outputId": "faff3cbc-2824-4804-d230-5a1edd55f99f",
        "colab": {
          "base_uri": "https://localhost:8080/"
        }
      },
      "outputs": [
        {
          "output_type": "stream",
          "name": "stdout",
          "text": [
            "R2: 0.7892818822873838\n",
            "MAE: 0.3304686199696904\n",
            "MSE: 0.2306519444931179\n",
            "RMSE: 0.48026237047380455\n"
          ]
        }
      ],
      "source": [
        "# RandomForestRegressor optimized\n",
        "model_rf = RandomForestRegressor(\n",
        "    random_state=0,\n",
        "    criterion = 'absolute_error',\n",
        "    min_samples_leaf=4,\n",
        "    min_samples_split=50,\n",
        "    max_features=5,\n",
        "    max_depth=9,\n",
        "    n_estimators=100,\n",
        "    bootstrap= True\n",
        ")\n",
        "model_rf.fit(x_train, y_train)\n",
        "y_pred_rf = model_rf.predict(x_test)\n",
        "\n",
        "rmse = mean_squared_error(y_test, y_pred_rf, squared = False)\n",
        "\n",
        "print('R2:', r2_score(y_test, y_pred_rf))\n",
        "print('MAE:', mean_absolute_error(y_test, y_pred_rf))\n",
        "print('MSE:', mean_squared_error(y_test, y_pred_rf))\n",
        "print('RMSE:', rmse)"
      ]
    },
    {
      "cell_type": "code",
      "execution_count": 27,
      "id": "9a72e5b3",
      "metadata": {
        "id": "9a72e5b3",
        "outputId": "ea955db2-9bd6-47b9-e4a8-758ae3c7e1ad",
        "colab": {
          "base_uri": "https://localhost:8080/"
        }
      },
      "outputs": [
        {
          "output_type": "stream",
          "name": "stdout",
          "text": [
            "R2: 0.85\n",
            "MAE: 0.28990752375723255\n",
            "MSE: 0.16076822445104155\n",
            "RMSE: 0.4009591306492989\n"
          ]
        }
      ],
      "source": [
        "# GradientBoostingRegressor optimized\n",
        "model_gbr = GradientBoostingRegressor(\n",
        "    random_state=0,\n",
        "    criterion = 'squared_error',\n",
        "    min_samples_leaf=5,\n",
        "    min_samples_split=116,\n",
        "    subsample = 1,\n",
        "    max_features=5,\n",
        "    max_depth=10,\n",
        "    learning_rate=0.2,\n",
        "    n_estimators=26,\n",
        ")\n",
        "model_gbr.fit(x_train, y_train)\n",
        "y_pred_gbr = model_gbr.predict(x_test)\n",
        "\n",
        "rmse = mean_squared_error(y_test, y_pred_gbr, squared = False)\n",
        "\n",
        "print(f'R2:', round(r2_score(y_test, y_pred_gbr),2\n",
        "                   ))\n",
        "print('MAE:', mean_absolute_error(y_test, y_pred_gbr))\n",
        "print('MSE:', mean_squared_error(y_test, y_pred_gbr))\n",
        "print('RMSE:', rmse)"
      ]
    },
    {
      "cell_type": "code",
      "execution_count": 12,
      "id": "7655eaee",
      "metadata": {
        "scrolled": true,
        "id": "7655eaee",
        "outputId": "ff9452ef-d289-4f4e-bd61-fc224ee96c89",
        "colab": {
          "base_uri": "https://localhost:8080/"
        }
      },
      "outputs": [
        {
          "output_type": "stream",
          "name": "stdout",
          "text": [
            "R2: 0.81\n",
            "MAE: 0.3028998842194288\n",
            "MSE: 0.2032764493716463\n",
            "RMSE: 0.4009591306492989\n"
          ]
        }
      ],
      "source": [
        "#Ensemble\n",
        "\n",
        "from sklearn.ensemble import RandomForestRegressor, GradientBoostingRegressor\n",
        "from sklearn.linear_model import LinearRegression\n",
        "from sklearn.model_selection import train_test_split\n",
        "from sklearn.metrics import mean_squared_error\n",
        "\n",
        "\n",
        "# Initializing models\n",
        "model_rf = RandomForestRegressor(\n",
        "    random_state=0,\n",
        "    criterion = 'absolute_error',\n",
        "    min_samples_leaf=4,\n",
        "    min_samples_split=50,\n",
        "    max_features=5,\n",
        "    max_depth=9,\n",
        "    n_estimators=100,\n",
        "    bootstrap= True\n",
        ")\n",
        "model_gb = GradientBoostingRegressor(\n",
        "    random_state=0,\n",
        "    criterion = 'squared_error',\n",
        "    min_samples_leaf=4,\n",
        "    min_samples_split=116,\n",
        "    max_features=5,\n",
        "    max_depth=3,\n",
        "    learning_rate=0.1,\n",
        "    n_estimators=26\n",
        ")\n",
        "model_dt = DecisionTreeRegressor(\n",
        "    random_state=0,\n",
        "    criterion = 'absolute_error',\n",
        "    min_samples_leaf=4,\n",
        "    min_samples_split=10,\n",
        "    max_features=5,\n",
        "    max_depth=9,\n",
        "    splitter='best'\n",
        ")\n",
        "\n",
        "# Training the models\n",
        "model_rf.fit(x_train, y_train)\n",
        "model_gb.fit(x_train, y_train)\n",
        "model_dt.fit(x_train, y_train)\n",
        "\n",
        "# Making predictions\n",
        "preds_rf = model_rf.predict(x_test)\n",
        "preds_gb = model_gb.predict(x_test)\n",
        "preds_dt = model_dt.predict(x_test)\n",
        "\n",
        "# Averaging the predictions\n",
        "final_preds = (preds_rf + preds_gb + preds_dt) / 3\n",
        "\n",
        "# Evaluating the ensemble model\n",
        "print(f'R2: {round(r2_score(y_test, final_preds),2)}')\n",
        "print('MAE:', mean_absolute_error(y_test, final_preds))\n",
        "print('MSE:', mean_squared_error(y_test, final_preds))\n",
        "print('RMSE:', rmse)\n"
      ]
    },
    {
      "cell_type": "markdown",
      "source": [
        "**Ensemble Approach:** Combining the predictions from Random Forest, Gradient Boosting, and Decision Tree models led to an R2 score of 0.81, indicating a strong predictive model. But in this case, the Gradient Boosting Regressor outperformed the ensemble method."
      ],
      "metadata": {
        "id": "7JF2ybYJn1bD"
      },
      "id": "7JF2ybYJn1bD"
    },
    {
      "cell_type": "markdown",
      "source": [
        "# **5\\. Evaluation**\n",
        "\n",
        "*   **A/B Testing Results**: Identified that Promotion 1 and Promotion 3 are statistically more effective than Promotion 2.\n",
        "*   **Cross-Validation**: **Lowest Mean Squared Error (MSE):** The lowest value, 0.085, suggests a relatively good performance of the model in that specific fold, indicating that the model had an average squared error of approximately 85 sales (when we multiply by 1000 to convert back to the original scale of 'SalesInThousands').\n",
        "\n"
      ],
      "metadata": {
        "id": "q8E1h73sg8Jt"
      },
      "id": "q8E1h73sg8Jt"
    },
    {
      "cell_type": "code",
      "execution_count": 31,
      "id": "f88e8d02",
      "metadata": {
        "id": "f88e8d02",
        "outputId": "7c1e5739-a58e-43db-aecb-3980aa66229b",
        "colab": {
          "base_uri": "https://localhost:8080/"
        }
      },
      "outputs": [
        {
          "output_type": "stream",
          "name": "stdout",
          "text": [
            "MSE scores: [-0.17235596 -0.17278913 -0.11730381 -0.20128858 -0.08523333]\n"
          ]
        }
      ],
      "source": [
        "# Cross-validation\n",
        "from sklearn.model_selection import cross_val_score\n",
        "\n",
        "model = GradientBoostingRegressor(\n",
        "    random_state=0,\n",
        "    criterion = 'squared_error',\n",
        "    min_samples_leaf=5,\n",
        "    min_samples_split=116,\n",
        "    subsample = 1,\n",
        "    max_features=5,\n",
        "    max_depth=10,\n",
        "    learning_rate=0.2,\n",
        "    n_estimators=26,\n",
        ")\n",
        "# Corrected scoring parameter\n",
        "scores = cross_val_score(model, x_train, y_train, cv=5, scoring='neg_mean_squared_error')\n",
        "print(\"MSE scores:\", scores)"
      ]
    },
    {
      "cell_type": "markdown",
      "source": [
        "To interpret these scores in the usual context of MSE, where lower values indicate better performance (lower error), let's convert them to positive form:\n",
        "\n",
        "`MSE scores: [0.17235596, 0.17278913, 0.11730381, 0.20128858, 0.08523333]`\n",
        "\n",
        "### Analysis of Updated Results\n",
        "\n",
        "The MSE values range from approximately 0.085 to 0.201, reflecting the mean squared error of the predictions relative to the actual sales values (in thousands). In the context of your goal to assess the impact of advertising campaigns on sales:\n",
        "\n",
        "*   **Lowest Mean Squared Error (MSE):** The lowest value, 0.085, suggests a relatively good performance of the model in that specific fold, indicating that the model had an average squared error of approximately 85 sales (when we multiply by 1000 to convert back to the original scale of 'SalesInThousands').\n",
        "*   **Highest Mean Squared Error (MSE):** The highest value, 0.201, indicates the worst performance among the folds, with an average squared error of approximately 201 sales. While higher, it still represents a level of error that may be considered reasonable, depending on the total volume of sales and profit margins.\n",
        "*   **Variation Between Folds:** The variation in MSE scores between the folds suggests differences in prediction difficulty among different segments of the dataset. This may be due to variations in the effectiveness of the campaigns or market sensitivity to these campaigns.\n",
        "\n",
        "### Conclusions and Recommendations\n",
        "\n",
        "*   **Positive Evaluation:** Overall, the MSE scores indicate that the model has a reasonable ability to predict sales based on advertising campaigns, with an error that varies but remains within a range that can be considered acceptable for campaign analysis purposes.\n",
        "*   **Opportunities for Improvement:** Despite promising results, there is always room for optimization. This could include refining the model (by adjusting hyperparameters or experimenting with alternative models), as well as delving deeper into the data to identify specific patterns or features of the campaigns that are most strongly associated with increases in sales.\n"
      ],
      "metadata": {
        "id": "aJ4HlVFx3-5J"
      },
      "id": "aJ4HlVFx3-5J"
    },
    {
      "cell_type": "markdown",
      "source": [
        "For the A/B testing analysis, we'll compare the sales performance of the three different promotions. This will help us understand which promotion was most effective. I'll conduct this analysis by comparing the mean sales of each promotion and performing statistical tests to see if the differences are significant.\n",
        "\n",
        "Let's proceed with the A/B testing analysis."
      ],
      "metadata": {
        "id": "XHGn-oDFlVzv"
      },
      "id": "XHGn-oDFlVzv"
    },
    {
      "cell_type": "code",
      "execution_count": 32,
      "id": "baf4a29c",
      "metadata": {
        "id": "baf4a29c",
        "outputId": "b4df1b7a-3605-43d6-e00b-e26c84404bd7",
        "colab": {
          "base_uri": "https://localhost:8080/",
          "height": 192
        }
      },
      "outputs": [
        {
          "output_type": "stream",
          "name": "stdout",
          "text": [
            "Mean Sales by Promotion:\n"
          ]
        },
        {
          "output_type": "execute_result",
          "data": {
            "text/plain": [
              "                mean        std  count\n",
              "Promotion                             \n",
              "1          58.099012  16.553782    172\n",
              "2          47.329415  15.108955    188\n",
              "3          55.364468  16.766231    188"
            ],
            "text/html": [
              "\n",
              "  <div id=\"df-77f4474e-e2b1-4779-bdc1-843dc44a930e\" class=\"colab-df-container\">\n",
              "    <div>\n",
              "<style scoped>\n",
              "    .dataframe tbody tr th:only-of-type {\n",
              "        vertical-align: middle;\n",
              "    }\n",
              "\n",
              "    .dataframe tbody tr th {\n",
              "        vertical-align: top;\n",
              "    }\n",
              "\n",
              "    .dataframe thead th {\n",
              "        text-align: right;\n",
              "    }\n",
              "</style>\n",
              "<table border=\"1\" class=\"dataframe\">\n",
              "  <thead>\n",
              "    <tr style=\"text-align: right;\">\n",
              "      <th></th>\n",
              "      <th>mean</th>\n",
              "      <th>std</th>\n",
              "      <th>count</th>\n",
              "    </tr>\n",
              "    <tr>\n",
              "      <th>Promotion</th>\n",
              "      <th></th>\n",
              "      <th></th>\n",
              "      <th></th>\n",
              "    </tr>\n",
              "  </thead>\n",
              "  <tbody>\n",
              "    <tr>\n",
              "      <th>1</th>\n",
              "      <td>58.099012</td>\n",
              "      <td>16.553782</td>\n",
              "      <td>172</td>\n",
              "    </tr>\n",
              "    <tr>\n",
              "      <th>2</th>\n",
              "      <td>47.329415</td>\n",
              "      <td>15.108955</td>\n",
              "      <td>188</td>\n",
              "    </tr>\n",
              "    <tr>\n",
              "      <th>3</th>\n",
              "      <td>55.364468</td>\n",
              "      <td>16.766231</td>\n",
              "      <td>188</td>\n",
              "    </tr>\n",
              "  </tbody>\n",
              "</table>\n",
              "</div>\n",
              "    <div class=\"colab-df-buttons\">\n",
              "\n",
              "  <div class=\"colab-df-container\">\n",
              "    <button class=\"colab-df-convert\" onclick=\"convertToInteractive('df-77f4474e-e2b1-4779-bdc1-843dc44a930e')\"\n",
              "            title=\"Convert this dataframe to an interactive table.\"\n",
              "            style=\"display:none;\">\n",
              "\n",
              "  <svg xmlns=\"http://www.w3.org/2000/svg\" height=\"24px\" viewBox=\"0 -960 960 960\">\n",
              "    <path d=\"M120-120v-720h720v720H120Zm60-500h600v-160H180v160Zm220 220h160v-160H400v160Zm0 220h160v-160H400v160ZM180-400h160v-160H180v160Zm440 0h160v-160H620v160ZM180-180h160v-160H180v160Zm440 0h160v-160H620v160Z\"/>\n",
              "  </svg>\n",
              "    </button>\n",
              "\n",
              "  <style>\n",
              "    .colab-df-container {\n",
              "      display:flex;\n",
              "      gap: 12px;\n",
              "    }\n",
              "\n",
              "    .colab-df-convert {\n",
              "      background-color: #E8F0FE;\n",
              "      border: none;\n",
              "      border-radius: 50%;\n",
              "      cursor: pointer;\n",
              "      display: none;\n",
              "      fill: #1967D2;\n",
              "      height: 32px;\n",
              "      padding: 0 0 0 0;\n",
              "      width: 32px;\n",
              "    }\n",
              "\n",
              "    .colab-df-convert:hover {\n",
              "      background-color: #E2EBFA;\n",
              "      box-shadow: 0px 1px 2px rgba(60, 64, 67, 0.3), 0px 1px 3px 1px rgba(60, 64, 67, 0.15);\n",
              "      fill: #174EA6;\n",
              "    }\n",
              "\n",
              "    .colab-df-buttons div {\n",
              "      margin-bottom: 4px;\n",
              "    }\n",
              "\n",
              "    [theme=dark] .colab-df-convert {\n",
              "      background-color: #3B4455;\n",
              "      fill: #D2E3FC;\n",
              "    }\n",
              "\n",
              "    [theme=dark] .colab-df-convert:hover {\n",
              "      background-color: #434B5C;\n",
              "      box-shadow: 0px 1px 3px 1px rgba(0, 0, 0, 0.15);\n",
              "      filter: drop-shadow(0px 1px 2px rgba(0, 0, 0, 0.3));\n",
              "      fill: #FFFFFF;\n",
              "    }\n",
              "  </style>\n",
              "\n",
              "    <script>\n",
              "      const buttonEl =\n",
              "        document.querySelector('#df-77f4474e-e2b1-4779-bdc1-843dc44a930e button.colab-df-convert');\n",
              "      buttonEl.style.display =\n",
              "        google.colab.kernel.accessAllowed ? 'block' : 'none';\n",
              "\n",
              "      async function convertToInteractive(key) {\n",
              "        const element = document.querySelector('#df-77f4474e-e2b1-4779-bdc1-843dc44a930e');\n",
              "        const dataTable =\n",
              "          await google.colab.kernel.invokeFunction('convertToInteractive',\n",
              "                                                    [key], {});\n",
              "        if (!dataTable) return;\n",
              "\n",
              "        const docLinkHtml = 'Like what you see? Visit the ' +\n",
              "          '<a target=\"_blank\" href=https://colab.research.google.com/notebooks/data_table.ipynb>data table notebook</a>'\n",
              "          + ' to learn more about interactive tables.';\n",
              "        element.innerHTML = '';\n",
              "        dataTable['output_type'] = 'display_data';\n",
              "        await google.colab.output.renderOutput(dataTable, element);\n",
              "        const docLink = document.createElement('div');\n",
              "        docLink.innerHTML = docLinkHtml;\n",
              "        element.appendChild(docLink);\n",
              "      }\n",
              "    </script>\n",
              "  </div>\n",
              "\n",
              "\n",
              "<div id=\"df-afa0bb69-6f46-4b96-96e9-001ea977de7a\">\n",
              "  <button class=\"colab-df-quickchart\" onclick=\"quickchart('df-afa0bb69-6f46-4b96-96e9-001ea977de7a')\"\n",
              "            title=\"Suggest charts\"\n",
              "            style=\"display:none;\">\n",
              "\n",
              "<svg xmlns=\"http://www.w3.org/2000/svg\" height=\"24px\"viewBox=\"0 0 24 24\"\n",
              "     width=\"24px\">\n",
              "    <g>\n",
              "        <path d=\"M19 3H5c-1.1 0-2 .9-2 2v14c0 1.1.9 2 2 2h14c1.1 0 2-.9 2-2V5c0-1.1-.9-2-2-2zM9 17H7v-7h2v7zm4 0h-2V7h2v10zm4 0h-2v-4h2v4z\"/>\n",
              "    </g>\n",
              "</svg>\n",
              "  </button>\n",
              "\n",
              "<style>\n",
              "  .colab-df-quickchart {\n",
              "      --bg-color: #E8F0FE;\n",
              "      --fill-color: #1967D2;\n",
              "      --hover-bg-color: #E2EBFA;\n",
              "      --hover-fill-color: #174EA6;\n",
              "      --disabled-fill-color: #AAA;\n",
              "      --disabled-bg-color: #DDD;\n",
              "  }\n",
              "\n",
              "  [theme=dark] .colab-df-quickchart {\n",
              "      --bg-color: #3B4455;\n",
              "      --fill-color: #D2E3FC;\n",
              "      --hover-bg-color: #434B5C;\n",
              "      --hover-fill-color: #FFFFFF;\n",
              "      --disabled-bg-color: #3B4455;\n",
              "      --disabled-fill-color: #666;\n",
              "  }\n",
              "\n",
              "  .colab-df-quickchart {\n",
              "    background-color: var(--bg-color);\n",
              "    border: none;\n",
              "    border-radius: 50%;\n",
              "    cursor: pointer;\n",
              "    display: none;\n",
              "    fill: var(--fill-color);\n",
              "    height: 32px;\n",
              "    padding: 0;\n",
              "    width: 32px;\n",
              "  }\n",
              "\n",
              "  .colab-df-quickchart:hover {\n",
              "    background-color: var(--hover-bg-color);\n",
              "    box-shadow: 0 1px 2px rgba(60, 64, 67, 0.3), 0 1px 3px 1px rgba(60, 64, 67, 0.15);\n",
              "    fill: var(--button-hover-fill-color);\n",
              "  }\n",
              "\n",
              "  .colab-df-quickchart-complete:disabled,\n",
              "  .colab-df-quickchart-complete:disabled:hover {\n",
              "    background-color: var(--disabled-bg-color);\n",
              "    fill: var(--disabled-fill-color);\n",
              "    box-shadow: none;\n",
              "  }\n",
              "\n",
              "  .colab-df-spinner {\n",
              "    border: 2px solid var(--fill-color);\n",
              "    border-color: transparent;\n",
              "    border-bottom-color: var(--fill-color);\n",
              "    animation:\n",
              "      spin 1s steps(1) infinite;\n",
              "  }\n",
              "\n",
              "  @keyframes spin {\n",
              "    0% {\n",
              "      border-color: transparent;\n",
              "      border-bottom-color: var(--fill-color);\n",
              "      border-left-color: var(--fill-color);\n",
              "    }\n",
              "    20% {\n",
              "      border-color: transparent;\n",
              "      border-left-color: var(--fill-color);\n",
              "      border-top-color: var(--fill-color);\n",
              "    }\n",
              "    30% {\n",
              "      border-color: transparent;\n",
              "      border-left-color: var(--fill-color);\n",
              "      border-top-color: var(--fill-color);\n",
              "      border-right-color: var(--fill-color);\n",
              "    }\n",
              "    40% {\n",
              "      border-color: transparent;\n",
              "      border-right-color: var(--fill-color);\n",
              "      border-top-color: var(--fill-color);\n",
              "    }\n",
              "    60% {\n",
              "      border-color: transparent;\n",
              "      border-right-color: var(--fill-color);\n",
              "    }\n",
              "    80% {\n",
              "      border-color: transparent;\n",
              "      border-right-color: var(--fill-color);\n",
              "      border-bottom-color: var(--fill-color);\n",
              "    }\n",
              "    90% {\n",
              "      border-color: transparent;\n",
              "      border-bottom-color: var(--fill-color);\n",
              "    }\n",
              "  }\n",
              "</style>\n",
              "\n",
              "  <script>\n",
              "    async function quickchart(key) {\n",
              "      const quickchartButtonEl =\n",
              "        document.querySelector('#' + key + ' button');\n",
              "      quickchartButtonEl.disabled = true;  // To prevent multiple clicks.\n",
              "      quickchartButtonEl.classList.add('colab-df-spinner');\n",
              "      try {\n",
              "        const charts = await google.colab.kernel.invokeFunction(\n",
              "            'suggestCharts', [key], {});\n",
              "      } catch (error) {\n",
              "        console.error('Error during call to suggestCharts:', error);\n",
              "      }\n",
              "      quickchartButtonEl.classList.remove('colab-df-spinner');\n",
              "      quickchartButtonEl.classList.add('colab-df-quickchart-complete');\n",
              "    }\n",
              "    (() => {\n",
              "      let quickchartButtonEl =\n",
              "        document.querySelector('#df-afa0bb69-6f46-4b96-96e9-001ea977de7a button');\n",
              "      quickchartButtonEl.style.display =\n",
              "        google.colab.kernel.accessAllowed ? 'block' : 'none';\n",
              "    })();\n",
              "  </script>\n",
              "</div>\n",
              "\n",
              "  <div id=\"id_0f2b93dc-3a67-4066-a0e3-29fdfefd638d\">\n",
              "    <style>\n",
              "      .colab-df-generate {\n",
              "        background-color: #E8F0FE;\n",
              "        border: none;\n",
              "        border-radius: 50%;\n",
              "        cursor: pointer;\n",
              "        display: none;\n",
              "        fill: #1967D2;\n",
              "        height: 32px;\n",
              "        padding: 0 0 0 0;\n",
              "        width: 32px;\n",
              "      }\n",
              "\n",
              "      .colab-df-generate:hover {\n",
              "        background-color: #E2EBFA;\n",
              "        box-shadow: 0px 1px 2px rgba(60, 64, 67, 0.3), 0px 1px 3px 1px rgba(60, 64, 67, 0.15);\n",
              "        fill: #174EA6;\n",
              "      }\n",
              "\n",
              "      [theme=dark] .colab-df-generate {\n",
              "        background-color: #3B4455;\n",
              "        fill: #D2E3FC;\n",
              "      }\n",
              "\n",
              "      [theme=dark] .colab-df-generate:hover {\n",
              "        background-color: #434B5C;\n",
              "        box-shadow: 0px 1px 3px 1px rgba(0, 0, 0, 0.15);\n",
              "        filter: drop-shadow(0px 1px 2px rgba(0, 0, 0, 0.3));\n",
              "        fill: #FFFFFF;\n",
              "      }\n",
              "    </style>\n",
              "    <button class=\"colab-df-generate\" onclick=\"generateWithVariable('promotion_grouped')\"\n",
              "            title=\"Generate code using this dataframe.\"\n",
              "            style=\"display:none;\">\n",
              "\n",
              "  <svg xmlns=\"http://www.w3.org/2000/svg\" height=\"24px\"viewBox=\"0 0 24 24\"\n",
              "       width=\"24px\">\n",
              "    <path d=\"M7,19H8.4L18.45,9,17,7.55,7,17.6ZM5,21V16.75L18.45,3.32a2,2,0,0,1,2.83,0l1.4,1.43a1.91,1.91,0,0,1,.58,1.4,1.91,1.91,0,0,1-.58,1.4L9.25,21ZM18.45,9,17,7.55Zm-12,3A5.31,5.31,0,0,0,4.9,8.1,5.31,5.31,0,0,0,1,6.5,5.31,5.31,0,0,0,4.9,4.9,5.31,5.31,0,0,0,6.5,1,5.31,5.31,0,0,0,8.1,4.9,5.31,5.31,0,0,0,12,6.5,5.46,5.46,0,0,0,6.5,12Z\"/>\n",
              "  </svg>\n",
              "    </button>\n",
              "    <script>\n",
              "      (() => {\n",
              "      const buttonEl =\n",
              "        document.querySelector('#id_0f2b93dc-3a67-4066-a0e3-29fdfefd638d button.colab-df-generate');\n",
              "      buttonEl.style.display =\n",
              "        google.colab.kernel.accessAllowed ? 'block' : 'none';\n",
              "\n",
              "      buttonEl.onclick = () => {\n",
              "        google.colab.notebook.generateWithVariable('promotion_grouped');\n",
              "      }\n",
              "      })();\n",
              "    </script>\n",
              "  </div>\n",
              "\n",
              "    </div>\n",
              "  </div>\n"
            ],
            "application/vnd.google.colaboratory.intrinsic+json": {
              "type": "dataframe",
              "variable_name": "promotion_grouped",
              "summary": "{\n  \"name\": \"promotion_grouped\",\n  \"rows\": 3,\n  \"fields\": [\n    {\n      \"column\": \"mean\",\n      \"properties\": {\n        \"dtype\": \"number\",\n        \"std\": 5.597976152098258,\n        \"min\": 47.32941489361702,\n        \"max\": 58.09901162790698,\n        \"num_unique_values\": 3,\n        \"samples\": [\n          58.09901162790698,\n          47.32941489361702,\n          55.36446808510639\n        ],\n        \"semantic_type\": \"\",\n        \"description\": \"\"\n      }\n    },\n    {\n      \"column\": \"std\",\n      \"properties\": {\n        \"dtype\": \"number\",\n        \"std\": 0.9017781632949879,\n        \"min\": 15.1089547828128,\n        \"max\": 16.766230774027893,\n        \"num_unique_values\": 3,\n        \"samples\": [\n          16.553781697578724,\n          15.1089547828128,\n          16.766230774027893\n        ],\n        \"semantic_type\": \"\",\n        \"description\": \"\"\n      }\n    },\n    {\n      \"column\": \"count\",\n      \"properties\": {\n        \"dtype\": \"number\",\n        \"std\": 9,\n        \"min\": 172,\n        \"max\": 188,\n        \"num_unique_values\": 2,\n        \"samples\": [\n          188,\n          172\n        ],\n        \"semantic_type\": \"\",\n        \"description\": \"\"\n      }\n    }\n  ]\n}"
            }
          },
          "metadata": {},
          "execution_count": 32
        }
      ],
      "source": [
        "import scipy.stats as stats\n",
        "\n",
        "# Grouping the data by 'Promotion' and calculating mean sales\n",
        "promotion_grouped = df.groupby('Promotion')['SalesInThousands'].agg(['mean', 'std', 'count'])\n",
        "\n",
        "# Conducting A/B Testing\n",
        "# Comparing Promotion 1 vs Promotion 2\n",
        "t_stat_12, p_val_12 = stats.ttest_ind(\n",
        "    df[df['Promotion'] == 1]['SalesInThousands'],\n",
        "    df[df['Promotion'] == 2]['SalesInThousands'],\n",
        "    equal_var=False\n",
        ")\n",
        "\n",
        "# Comparing Promotion 1 vs Promotion 3\n",
        "t_stat_13, p_val_13 = stats.ttest_ind(\n",
        "    df[df['Promotion'] == 1]['SalesInThousands'],\n",
        "    df[df['Promotion'] == 3]['SalesInThousands'],\n",
        "    equal_var=False\n",
        ")\n",
        "\n",
        "# Comparing Promotion 2 vs Promotion 3\n",
        "t_stat_23, p_val_23 = stats.ttest_ind(\n",
        "    df[df['Promotion'] == 2]['SalesInThousands'],\n",
        "    df[df['Promotion'] == 3]['SalesInThousands'],\n",
        "    equal_var=False\n",
        ")\n",
        "\n",
        "print('Mean Sales by Promotion:')\n",
        "promotion_grouped"
      ]
    },
    {
      "cell_type": "code",
      "execution_count": 33,
      "id": "efd4a9a5",
      "metadata": {
        "id": "efd4a9a5",
        "outputId": "bc50c26b-921d-48ad-83d8-fe9d0d63c400",
        "colab": {
          "base_uri": "https://localhost:8080/"
        }
      },
      "outputs": [
        {
          "output_type": "stream",
          "name": "stdout",
          "text": [
            "Statistical Significance (p-values):\n",
            "Promotion 1 vs 2: 4.2903687179871785e-10 \n",
            "Promotion 1 vs 3: 0.12059147742229478 \n",
            "Promotion 2 vs 3: 1.5692733176039892e-06\n"
          ]
        }
      ],
      "source": [
        "print('Statistical Significance (p-values):')\n",
        "print('Promotion 1 vs 2:',  p_val_12, '\\nPromotion 1 vs 3:', p_val_13, '\\nPromotion 2 vs 3:', p_val_23)\n"
      ]
    },
    {
      "cell_type": "markdown",
      "id": "c5e2f6f4",
      "metadata": {
        "id": "c5e2f6f4"
      },
      "source": [
        "\n",
        "The A/B testing analysis provides the following insights:\n",
        "\n",
        "### Mean Sales by Promotion\n",
        "- **Promotion 1**: Average sales of 58.10 thousand dollars.\n",
        "- **Promotion 2**: Average sales of 47.33 thousand dollars.\n",
        "- **Promotion 3**: Average sales of 55.36 thousand dollars.\n",
        "\n",
        "### Statistical Significance (p-values)\n",
        "- **Promotion 1 vs Promotion 2**: p-value ≈ 4.29e-10\n",
        "- **Promotion 1 vs Promotion 3**: p-value ≈ 0.121\n",
        "- **Promotion 2 vs Promotion 3**: p-value ≈ 1.57e-06\n",
        "\n",
        "### Analysis\n",
        "- **Promotion 1 vs Promotion 2**: The p-value is significantly small (4.29e-10), indicating that the difference in sales between these two promotions is statistically significant.\n",
        "- **Promotion 1 vs Promotion 3**: The p-value is 0.121, which is greater than the typical alpha level of 0.05. This suggests that the difference in sales between Promotion 1 and Promotion 3 is not statistically significant.\n",
        "- **Promotion 2 vs Promotion 3**: The p-value is extremely small (1.57e-06), indicating a significant difference in sales performance between these promotions.\n",
        "\n",
        "#**Conclusion**\n",
        "- **Promotion 1** and **Promotion 3** are more effective than **Promotion 2**, with Promotion 1 showing the highest average sales.\n",
        "- The difference between **Promotion 1** and **Promotion 3** is not statistically significant, suggesting they are similarly effective.\n",
        "- **Promotion 2** is significantly less effective than both Promotion 1 and Promotion 3.\n",
        "\n",
        "This analysis should be instrumental in guiding future marketing strategies, focusing on the elements that made Promotions 1 and 3 more successful."
      ]
    },
    {
      "cell_type": "markdown",
      "source": [
        "\n",
        "\n",
        "*   **Insights**:\n",
        "    *   Promotions 1 and 3 are recommended for future marketing strategies due to higher effectiveness.\n",
        "    *   The Gradient Boosting model can be used for predictive analysis of sales under different promotions.\n",
        "*   **Recommendations for Stakeholders**: Communicate findings to marketing teams for strategic planning.\n",
        "\n",
        "Throughout these steps, focus on the metrics obtained in each phase, especially the R2, MAE, MSE, and RMSE values from your regression models, as they are crucial indicators of model performance. Also, integrate findings from the A/B testing into your overall analysis to provide a holistic view of the dataset and the effectiveness of different marketing promotions.\n"
      ],
      "metadata": {
        "id": "rcHp2HlEl1Nr"
      },
      "id": "rcHp2HlEl1Nr"
    }
  ],
  "metadata": {
    "kernelspec": {
      "display_name": "Python 3 (ipykernel)",
      "language": "python",
      "name": "python3"
    },
    "language_info": {
      "codemirror_mode": {
        "name": "ipython",
        "version": 3
      },
      "file_extension": ".py",
      "mimetype": "text/x-python",
      "name": "python",
      "nbconvert_exporter": "python",
      "pygments_lexer": "ipython3",
      "version": "3.11.5"
    },
    "colab": {
      "provenance": [],
      "include_colab_link": true
    }
  },
  "nbformat": 4,
  "nbformat_minor": 5
}